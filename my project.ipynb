{
 "cells": [
  {
   "cell_type": "markdown",
   "id": "8d1462bb",
   "metadata": {},
   "source": [
    "# Project : NO show appointments"
   ]
  },
  {
   "cell_type": "markdown",
   "id": "b674e2d7",
   "metadata": {},
   "source": [
    "# Introduction"
   ]
  },
  {
   "cell_type": "markdown",
   "id": "3721fcc6",
   "metadata": {},
   "source": [
    "# data describtion : "
   ]
  },
  {
   "cell_type": "markdown",
   "id": "2b61d5c4",
   "metadata": {},
   "source": [
    "This dataset collects information from 100k medical appointments in Brazil and is focused on the question of whether or not patients show up for their appointment. A number of characteristics about the patient are included in each row. example : \n",
    "1- scheduled day : the day at which patient book the appointment date . \n",
    "2-Appointment day : the day at which patient is going to see the doctor.\n",
    "3-Neighbourhood : Is the place of the hosipital . \n",
    "4- Scholarship : indicates whether or not the patient is enrolled in Brasilian welfare program Bolsa Família . \n",
    "5- you must put it into your concern that 0 means 'No' and 1 means 'Yes' in this data set . "
   ]
  },
  {
   "cell_type": "markdown",
   "id": "e9940df5",
   "metadata": {},
   "source": [
    "# Data set questions : "
   ]
  },
  {
   "cell_type": "markdown",
   "id": "705badcf",
   "metadata": {},
   "source": [
    "1- Is there any correlation between the data ? "
   ]
  },
  {
   "cell_type": "markdown",
   "id": "5e595245",
   "metadata": {},
   "source": [
    "2- What is the ratio between Males and Females ? "
   ]
  },
  {
   "cell_type": "markdown",
   "id": "aef17906",
   "metadata": {},
   "source": [
    "3- How Gender affect showing up at the appointment ? "
   ]
  },
  {
   "cell_type": "markdown",
   "id": "0de8eb58",
   "metadata": {},
   "source": [
    "4- How Gender having scholarship affect showing up at the appointment ? "
   ]
  },
  {
   "cell_type": "markdown",
   "id": "6cf2c9a4",
   "metadata": {},
   "source": [
    "5- What is the ratio between people with scholarship and people without?"
   ]
  },
  {
   "cell_type": "markdown",
   "id": "b408eec3",
   "metadata": {},
   "source": [
    "6- Is there a relation between having handicap and showing up at the appointment ?"
   ]
  },
  {
   "cell_type": "markdown",
   "id": "e581f71e",
   "metadata": {},
   "source": [
    "7- Is there arelation between having Hypertension and showing up at the appointment ? "
   ]
  },
  {
   "cell_type": "markdown",
   "id": "ee15c1c8",
   "metadata": {},
   "source": [
    "8- What is the relation between having Diabetes and showing up at the appointment  ?"
   ]
  },
  {
   "cell_type": "markdown",
   "id": "e30c86b5",
   "metadata": {},
   "source": [
    "9- What is the relation between Alcoholism and showing up at the appointment ? "
   ]
  },
  {
   "cell_type": "markdown",
   "id": "ef01a238",
   "metadata": {},
   "source": [
    "10- What is the correlation between Gender age and showing up at the appointment ? "
   ]
  },
  {
   "cell_type": "markdown",
   "id": "cfaefec3",
   "metadata": {},
   "source": [
    "11- What is the relation between Receiving SMS and showing up at the appointment ? "
   ]
  },
  {
   "cell_type": "code",
   "execution_count": null,
   "metadata": {},
   "outputs": [],
   "source": []
  },
  {
   "cell_type": "markdown",
   "id": "89ecb376",
   "metadata": {},
   "source": [
    "# Data Wrangling"
   ]
  },
  {
   "cell_type": "markdown",
   "id": "59ec94fd",
   "metadata": {},
   "source": [
    "### importing packages and loading data into pandas data frame . "
   ]
  },
  {
   "cell_type": "code",
   "execution_count": 9,
   "id": "f9d6c469",
   "metadata": {},
   "outputs": [],
   "source": [
    "import pandas as pd \n",
    "import numpy as np \n",
    "import matplotlib.pyplot as plt\n",
    "%matplotlib inline\n",
    "import seaborn as sns"
   ]
  },
  {
   "cell_type": "code",
   "execution_count": 10,
   "id": "cb1e7656",
   "metadata": {},
   "outputs": [
    {
     "data": {
      "text/html": [
       "<div>\n",
       "<style scoped>\n",
       "    .dataframe tbody tr th:only-of-type {\n",
       "        vertical-align: middle;\n",
       "    }\n",
       "\n",
       "    .dataframe tbody tr th {\n",
       "        vertical-align: top;\n",
       "    }\n",
       "\n",
       "    .dataframe thead th {\n",
       "        text-align: right;\n",
       "    }\n",
       "</style>\n",
       "<table border=\"1\" class=\"dataframe\">\n",
       "  <thead>\n",
       "    <tr style=\"text-align: right;\">\n",
       "      <th></th>\n",
       "      <th>PatientId</th>\n",
       "      <th>AppointmentID</th>\n",
       "      <th>Gender</th>\n",
       "      <th>ScheduledDay</th>\n",
       "      <th>AppointmentDay</th>\n",
       "      <th>Age</th>\n",
       "      <th>Neighbourhood</th>\n",
       "      <th>Scholarship</th>\n",
       "      <th>Hipertension</th>\n",
       "      <th>Diabetes</th>\n",
       "      <th>Alcoholism</th>\n",
       "      <th>Handcap</th>\n",
       "      <th>SMS_received</th>\n",
       "      <th>No-show</th>\n",
       "    </tr>\n",
       "  </thead>\n",
       "  <tbody>\n",
       "    <tr>\n",
       "      <th>0</th>\n",
       "      <td>2.987250e+13</td>\n",
       "      <td>5642903</td>\n",
       "      <td>F</td>\n",
       "      <td>2016-04-29T18:38:08Z</td>\n",
       "      <td>2016-04-29T00:00:00Z</td>\n",
       "      <td>62</td>\n",
       "      <td>JARDIM DA PENHA</td>\n",
       "      <td>0</td>\n",
       "      <td>1</td>\n",
       "      <td>0</td>\n",
       "      <td>0</td>\n",
       "      <td>0</td>\n",
       "      <td>0</td>\n",
       "      <td>No</td>\n",
       "    </tr>\n",
       "    <tr>\n",
       "      <th>1</th>\n",
       "      <td>5.589978e+14</td>\n",
       "      <td>5642503</td>\n",
       "      <td>M</td>\n",
       "      <td>2016-04-29T16:08:27Z</td>\n",
       "      <td>2016-04-29T00:00:00Z</td>\n",
       "      <td>56</td>\n",
       "      <td>JARDIM DA PENHA</td>\n",
       "      <td>0</td>\n",
       "      <td>0</td>\n",
       "      <td>0</td>\n",
       "      <td>0</td>\n",
       "      <td>0</td>\n",
       "      <td>0</td>\n",
       "      <td>No</td>\n",
       "    </tr>\n",
       "    <tr>\n",
       "      <th>2</th>\n",
       "      <td>4.262962e+12</td>\n",
       "      <td>5642549</td>\n",
       "      <td>F</td>\n",
       "      <td>2016-04-29T16:19:04Z</td>\n",
       "      <td>2016-04-29T00:00:00Z</td>\n",
       "      <td>62</td>\n",
       "      <td>MATA DA PRAIA</td>\n",
       "      <td>0</td>\n",
       "      <td>0</td>\n",
       "      <td>0</td>\n",
       "      <td>0</td>\n",
       "      <td>0</td>\n",
       "      <td>0</td>\n",
       "      <td>No</td>\n",
       "    </tr>\n",
       "    <tr>\n",
       "      <th>3</th>\n",
       "      <td>8.679512e+11</td>\n",
       "      <td>5642828</td>\n",
       "      <td>F</td>\n",
       "      <td>2016-04-29T17:29:31Z</td>\n",
       "      <td>2016-04-29T00:00:00Z</td>\n",
       "      <td>8</td>\n",
       "      <td>PONTAL DE CAMBURI</td>\n",
       "      <td>0</td>\n",
       "      <td>0</td>\n",
       "      <td>0</td>\n",
       "      <td>0</td>\n",
       "      <td>0</td>\n",
       "      <td>0</td>\n",
       "      <td>No</td>\n",
       "    </tr>\n",
       "    <tr>\n",
       "      <th>4</th>\n",
       "      <td>8.841186e+12</td>\n",
       "      <td>5642494</td>\n",
       "      <td>F</td>\n",
       "      <td>2016-04-29T16:07:23Z</td>\n",
       "      <td>2016-04-29T00:00:00Z</td>\n",
       "      <td>56</td>\n",
       "      <td>JARDIM DA PENHA</td>\n",
       "      <td>0</td>\n",
       "      <td>1</td>\n",
       "      <td>1</td>\n",
       "      <td>0</td>\n",
       "      <td>0</td>\n",
       "      <td>0</td>\n",
       "      <td>No</td>\n",
       "    </tr>\n",
       "  </tbody>\n",
       "</table>\n",
       "</div>"
      ],
      "text/plain": [
       "      PatientId  AppointmentID Gender          ScheduledDay  \\\n",
       "0  2.987250e+13        5642903      F  2016-04-29T18:38:08Z   \n",
       "1  5.589978e+14        5642503      M  2016-04-29T16:08:27Z   \n",
       "2  4.262962e+12        5642549      F  2016-04-29T16:19:04Z   \n",
       "3  8.679512e+11        5642828      F  2016-04-29T17:29:31Z   \n",
       "4  8.841186e+12        5642494      F  2016-04-29T16:07:23Z   \n",
       "\n",
       "         AppointmentDay  Age      Neighbourhood  Scholarship  Hipertension  \\\n",
       "0  2016-04-29T00:00:00Z   62    JARDIM DA PENHA            0             1   \n",
       "1  2016-04-29T00:00:00Z   56    JARDIM DA PENHA            0             0   \n",
       "2  2016-04-29T00:00:00Z   62      MATA DA PRAIA            0             0   \n",
       "3  2016-04-29T00:00:00Z    8  PONTAL DE CAMBURI            0             0   \n",
       "4  2016-04-29T00:00:00Z   56    JARDIM DA PENHA            0             1   \n",
       "\n",
       "   Diabetes  Alcoholism  Handcap  SMS_received No-show  \n",
       "0         0           0        0             0      No  \n",
       "1         0           0        0             0      No  \n",
       "2         0           0        0             0      No  \n",
       "3         0           0        0             0      No  \n",
       "4         1           0        0             0      No  "
      ]
     },
     "execution_count": 10,
     "metadata": {},
     "output_type": "execute_result"
    }
   ],
   "source": [
    "data = pd.read_csv('noshowappointments-kagglev2-may-2016.csv')\n",
    "data.head()"
   ]
  },
  {
   "cell_type": "markdown",
   "id": "292eae49",
   "metadata": {},
   "source": [
    "### Understanding the data "
   ]
  },
  {
   "cell_type": "code",
   "execution_count": 11,
   "id": "d0810c91",
   "metadata": {},
   "outputs": [
    {
     "name": "stdout",
     "output_type": "stream",
     "text": [
      "<class 'pandas.core.frame.DataFrame'>\n",
      "RangeIndex: 110527 entries, 0 to 110526\n",
      "Data columns (total 14 columns):\n",
      " #   Column          Non-Null Count   Dtype  \n",
      "---  ------          --------------   -----  \n",
      " 0   PatientId       110527 non-null  float64\n",
      " 1   AppointmentID   110527 non-null  int64  \n",
      " 2   Gender          110527 non-null  object \n",
      " 3   ScheduledDay    110527 non-null  object \n",
      " 4   AppointmentDay  110527 non-null  object \n",
      " 5   Age             110527 non-null  int64  \n",
      " 6   Neighbourhood   110527 non-null  object \n",
      " 7   Scholarship     110527 non-null  int64  \n",
      " 8   Hipertension    110527 non-null  int64  \n",
      " 9   Diabetes        110527 non-null  int64  \n",
      " 10  Alcoholism      110527 non-null  int64  \n",
      " 11  Handcap         110527 non-null  int64  \n",
      " 12  SMS_received    110527 non-null  int64  \n",
      " 13  No-show         110527 non-null  object \n",
      "dtypes: float64(1), int64(8), object(5)\n",
      "memory usage: 11.8+ MB\n"
     ]
    }
   ],
   "source": [
    "data.info()"
   ]
  },
  {
   "cell_type": "code",
   "execution_count": 12,
   "id": "0e0bcfd7",
   "metadata": {},
   "outputs": [
    {
     "data": {
      "text/plain": [
       "(110527, 14)"
      ]
     },
     "execution_count": 12,
     "metadata": {},
     "output_type": "execute_result"
    }
   ],
   "source": [
    "data.shape"
   ]
  },
  {
   "cell_type": "code",
   "execution_count": 13,
   "id": "6d57aa70",
   "metadata": {},
   "outputs": [
    {
     "data": {
      "text/html": [
       "<div>\n",
       "<style scoped>\n",
       "    .dataframe tbody tr th:only-of-type {\n",
       "        vertical-align: middle;\n",
       "    }\n",
       "\n",
       "    .dataframe tbody tr th {\n",
       "        vertical-align: top;\n",
       "    }\n",
       "\n",
       "    .dataframe thead th {\n",
       "        text-align: right;\n",
       "    }\n",
       "</style>\n",
       "<table border=\"1\" class=\"dataframe\">\n",
       "  <thead>\n",
       "    <tr style=\"text-align: right;\">\n",
       "      <th></th>\n",
       "      <th>PatientId</th>\n",
       "      <th>AppointmentID</th>\n",
       "      <th>Age</th>\n",
       "      <th>Scholarship</th>\n",
       "      <th>Hipertension</th>\n",
       "      <th>Diabetes</th>\n",
       "      <th>Alcoholism</th>\n",
       "      <th>Handcap</th>\n",
       "      <th>SMS_received</th>\n",
       "    </tr>\n",
       "  </thead>\n",
       "  <tbody>\n",
       "    <tr>\n",
       "      <th>count</th>\n",
       "      <td>1.105270e+05</td>\n",
       "      <td>1.105270e+05</td>\n",
       "      <td>110527.000000</td>\n",
       "      <td>110527.000000</td>\n",
       "      <td>110527.000000</td>\n",
       "      <td>110527.000000</td>\n",
       "      <td>110527.000000</td>\n",
       "      <td>110527.000000</td>\n",
       "      <td>110527.000000</td>\n",
       "    </tr>\n",
       "    <tr>\n",
       "      <th>mean</th>\n",
       "      <td>1.474963e+14</td>\n",
       "      <td>5.675305e+06</td>\n",
       "      <td>37.088874</td>\n",
       "      <td>0.098266</td>\n",
       "      <td>0.197246</td>\n",
       "      <td>0.071865</td>\n",
       "      <td>0.030400</td>\n",
       "      <td>0.022248</td>\n",
       "      <td>0.321026</td>\n",
       "    </tr>\n",
       "    <tr>\n",
       "      <th>std</th>\n",
       "      <td>2.560949e+14</td>\n",
       "      <td>7.129575e+04</td>\n",
       "      <td>23.110205</td>\n",
       "      <td>0.297675</td>\n",
       "      <td>0.397921</td>\n",
       "      <td>0.258265</td>\n",
       "      <td>0.171686</td>\n",
       "      <td>0.161543</td>\n",
       "      <td>0.466873</td>\n",
       "    </tr>\n",
       "    <tr>\n",
       "      <th>min</th>\n",
       "      <td>3.921784e+04</td>\n",
       "      <td>5.030230e+06</td>\n",
       "      <td>-1.000000</td>\n",
       "      <td>0.000000</td>\n",
       "      <td>0.000000</td>\n",
       "      <td>0.000000</td>\n",
       "      <td>0.000000</td>\n",
       "      <td>0.000000</td>\n",
       "      <td>0.000000</td>\n",
       "    </tr>\n",
       "    <tr>\n",
       "      <th>25%</th>\n",
       "      <td>4.172614e+12</td>\n",
       "      <td>5.640286e+06</td>\n",
       "      <td>18.000000</td>\n",
       "      <td>0.000000</td>\n",
       "      <td>0.000000</td>\n",
       "      <td>0.000000</td>\n",
       "      <td>0.000000</td>\n",
       "      <td>0.000000</td>\n",
       "      <td>0.000000</td>\n",
       "    </tr>\n",
       "    <tr>\n",
       "      <th>50%</th>\n",
       "      <td>3.173184e+13</td>\n",
       "      <td>5.680573e+06</td>\n",
       "      <td>37.000000</td>\n",
       "      <td>0.000000</td>\n",
       "      <td>0.000000</td>\n",
       "      <td>0.000000</td>\n",
       "      <td>0.000000</td>\n",
       "      <td>0.000000</td>\n",
       "      <td>0.000000</td>\n",
       "    </tr>\n",
       "    <tr>\n",
       "      <th>75%</th>\n",
       "      <td>9.439172e+13</td>\n",
       "      <td>5.725524e+06</td>\n",
       "      <td>55.000000</td>\n",
       "      <td>0.000000</td>\n",
       "      <td>0.000000</td>\n",
       "      <td>0.000000</td>\n",
       "      <td>0.000000</td>\n",
       "      <td>0.000000</td>\n",
       "      <td>1.000000</td>\n",
       "    </tr>\n",
       "    <tr>\n",
       "      <th>max</th>\n",
       "      <td>9.999816e+14</td>\n",
       "      <td>5.790484e+06</td>\n",
       "      <td>115.000000</td>\n",
       "      <td>1.000000</td>\n",
       "      <td>1.000000</td>\n",
       "      <td>1.000000</td>\n",
       "      <td>1.000000</td>\n",
       "      <td>4.000000</td>\n",
       "      <td>1.000000</td>\n",
       "    </tr>\n",
       "  </tbody>\n",
       "</table>\n",
       "</div>"
      ],
      "text/plain": [
       "          PatientId  AppointmentID            Age    Scholarship  \\\n",
       "count  1.105270e+05   1.105270e+05  110527.000000  110527.000000   \n",
       "mean   1.474963e+14   5.675305e+06      37.088874       0.098266   \n",
       "std    2.560949e+14   7.129575e+04      23.110205       0.297675   \n",
       "min    3.921784e+04   5.030230e+06      -1.000000       0.000000   \n",
       "25%    4.172614e+12   5.640286e+06      18.000000       0.000000   \n",
       "50%    3.173184e+13   5.680573e+06      37.000000       0.000000   \n",
       "75%    9.439172e+13   5.725524e+06      55.000000       0.000000   \n",
       "max    9.999816e+14   5.790484e+06     115.000000       1.000000   \n",
       "\n",
       "        Hipertension       Diabetes     Alcoholism        Handcap  \\\n",
       "count  110527.000000  110527.000000  110527.000000  110527.000000   \n",
       "mean        0.197246       0.071865       0.030400       0.022248   \n",
       "std         0.397921       0.258265       0.171686       0.161543   \n",
       "min         0.000000       0.000000       0.000000       0.000000   \n",
       "25%         0.000000       0.000000       0.000000       0.000000   \n",
       "50%         0.000000       0.000000       0.000000       0.000000   \n",
       "75%         0.000000       0.000000       0.000000       0.000000   \n",
       "max         1.000000       1.000000       1.000000       4.000000   \n",
       "\n",
       "        SMS_received  \n",
       "count  110527.000000  \n",
       "mean        0.321026  \n",
       "std         0.466873  \n",
       "min         0.000000  \n",
       "25%         0.000000  \n",
       "50%         0.000000  \n",
       "75%         1.000000  \n",
       "max         1.000000  "
      ]
     },
     "execution_count": 13,
     "metadata": {},
     "output_type": "execute_result"
    }
   ],
   "source": [
    "data.describe()"
   ]
  },
  {
   "cell_type": "markdown",
   "id": "99dcc611",
   "metadata": {},
   "source": [
    "#### Checking for null values "
   ]
  },
  {
   "cell_type": "code",
   "execution_count": 14,
   "id": "3c0fb348",
   "metadata": {},
   "outputs": [
    {
     "data": {
      "text/plain": [
       "PatientId         0\n",
       "AppointmentID     0\n",
       "Gender            0\n",
       "ScheduledDay      0\n",
       "AppointmentDay    0\n",
       "Age               0\n",
       "Neighbourhood     0\n",
       "Scholarship       0\n",
       "Hipertension      0\n",
       "Diabetes          0\n",
       "Alcoholism        0\n",
       "Handcap           0\n",
       "SMS_received      0\n",
       "No-show           0\n",
       "dtype: int64"
      ]
     },
     "execution_count": 14,
     "metadata": {},
     "output_type": "execute_result"
    }
   ],
   "source": [
    "data.isnull().sum()"
   ]
  },
  {
   "cell_type": "markdown",
   "id": "b2a34749",
   "metadata": {},
   "source": [
    "There is no null values "
   ]
  },
  {
   "cell_type": "markdown",
   "id": "ee2a593e",
   "metadata": {},
   "source": [
    "#### Cheking for duplicates "
   ]
  },
  {
   "cell_type": "code",
   "execution_count": 15,
   "id": "17e046f3",
   "metadata": {},
   "outputs": [
    {
     "data": {
      "text/plain": [
       "0"
      ]
     },
     "execution_count": 15,
     "metadata": {},
     "output_type": "execute_result"
    }
   ],
   "source": [
    "data.duplicated().sum()"
   ]
  },
  {
   "cell_type": "markdown",
   "id": "96689e70",
   "metadata": {},
   "source": [
    "there is no dublicates . "
   ]
  },
  {
   "cell_type": "markdown",
   "id": "db552167",
   "metadata": {},
   "source": [
    "### Data Modifications :"
   ]
  },
  {
   "cell_type": "markdown",
   "id": "414c82c0",
   "metadata": {},
   "source": [
    "- convert Scheduled and Appointment columns to time \n"
   ]
  },
  {
   "cell_type": "markdown",
   "id": "a7e635de",
   "metadata": {},
   "source": [
    "- Add hours and secounds for Appointment day "
   ]
  },
  {
   "cell_type": "markdown",
   "id": "0b442d8e",
   "metadata": {},
   "source": [
    " - Add Waiting time column for Analysis "
   ]
  },
  {
   "cell_type": "markdown",
   "id": "f891a783",
   "metadata": {},
   "source": [
    "- Renaming columns"
   ]
  },
  {
   "cell_type": "markdown",
   "id": "9d30554a",
   "metadata": {},
   "source": [
    "#### 1 - convert Scheduled and Appointment columns to time "
   ]
  },
  {
   "cell_type": "code",
   "execution_count": 16,
   "id": "823d3569",
   "metadata": {},
   "outputs": [
    {
     "name": "stdout",
     "output_type": "stream",
     "text": [
      "<class 'pandas.core.frame.DataFrame'>\n",
      "RangeIndex: 110527 entries, 0 to 110526\n",
      "Data columns (total 14 columns):\n",
      " #   Column          Non-Null Count   Dtype              \n",
      "---  ------          --------------   -----              \n",
      " 0   PatientId       110527 non-null  float64            \n",
      " 1   AppointmentID   110527 non-null  int64              \n",
      " 2   Gender          110527 non-null  object             \n",
      " 3   ScheduledDay    110527 non-null  datetime64[ns, UTC]\n",
      " 4   AppointmentDay  110527 non-null  datetime64[ns, UTC]\n",
      " 5   Age             110527 non-null  int64              \n",
      " 6   Neighbourhood   110527 non-null  object             \n",
      " 7   Scholarship     110527 non-null  int64              \n",
      " 8   Hipertension    110527 non-null  int64              \n",
      " 9   Diabetes        110527 non-null  int64              \n",
      " 10  Alcoholism      110527 non-null  int64              \n",
      " 11  Handcap         110527 non-null  int64              \n",
      " 12  SMS_received    110527 non-null  int64              \n",
      " 13  No-show         110527 non-null  object             \n",
      "dtypes: datetime64[ns, UTC](2), float64(1), int64(8), object(3)\n",
      "memory usage: 11.8+ MB\n"
     ]
    }
   ],
   "source": [
    "data['ScheduledDay']= pd.to_datetime(data['ScheduledDay'])\n",
    "data['AppointmentDay']= pd.to_datetime(data['AppointmentDay'])\n",
    "data.info()"
   ]
  },
  {
   "cell_type": "markdown",
   "id": "bf5b73bb",
   "metadata": {},
   "source": [
    "#### 2- Add Hours and secounds for appointment day "
   ]
  },
  {
   "cell_type": "code",
   "execution_count": 17,
   "id": "6dd255f9",
   "metadata": {},
   "outputs": [
    {
     "data": {
      "text/html": [
       "<div>\n",
       "<style scoped>\n",
       "    .dataframe tbody tr th:only-of-type {\n",
       "        vertical-align: middle;\n",
       "    }\n",
       "\n",
       "    .dataframe tbody tr th {\n",
       "        vertical-align: top;\n",
       "    }\n",
       "\n",
       "    .dataframe thead th {\n",
       "        text-align: right;\n",
       "    }\n",
       "</style>\n",
       "<table border=\"1\" class=\"dataframe\">\n",
       "  <thead>\n",
       "    <tr style=\"text-align: right;\">\n",
       "      <th></th>\n",
       "      <th>PatientId</th>\n",
       "      <th>AppointmentID</th>\n",
       "      <th>Gender</th>\n",
       "      <th>ScheduledDay</th>\n",
       "      <th>AppointmentDay</th>\n",
       "      <th>Age</th>\n",
       "      <th>Neighbourhood</th>\n",
       "      <th>Scholarship</th>\n",
       "      <th>Hipertension</th>\n",
       "      <th>Diabetes</th>\n",
       "      <th>Alcoholism</th>\n",
       "      <th>Handcap</th>\n",
       "      <th>SMS_received</th>\n",
       "      <th>No-show</th>\n",
       "    </tr>\n",
       "  </thead>\n",
       "  <tbody>\n",
       "    <tr>\n",
       "      <th>0</th>\n",
       "      <td>2.987250e+13</td>\n",
       "      <td>5642903</td>\n",
       "      <td>F</td>\n",
       "      <td>2016-04-29 18:38:08+00:00</td>\n",
       "      <td>2016-04-29 23:59:59+00:00</td>\n",
       "      <td>62</td>\n",
       "      <td>JARDIM DA PENHA</td>\n",
       "      <td>0</td>\n",
       "      <td>1</td>\n",
       "      <td>0</td>\n",
       "      <td>0</td>\n",
       "      <td>0</td>\n",
       "      <td>0</td>\n",
       "      <td>No</td>\n",
       "    </tr>\n",
       "    <tr>\n",
       "      <th>1</th>\n",
       "      <td>5.589978e+14</td>\n",
       "      <td>5642503</td>\n",
       "      <td>M</td>\n",
       "      <td>2016-04-29 16:08:27+00:00</td>\n",
       "      <td>2016-04-29 23:59:59+00:00</td>\n",
       "      <td>56</td>\n",
       "      <td>JARDIM DA PENHA</td>\n",
       "      <td>0</td>\n",
       "      <td>0</td>\n",
       "      <td>0</td>\n",
       "      <td>0</td>\n",
       "      <td>0</td>\n",
       "      <td>0</td>\n",
       "      <td>No</td>\n",
       "    </tr>\n",
       "    <tr>\n",
       "      <th>2</th>\n",
       "      <td>4.262962e+12</td>\n",
       "      <td>5642549</td>\n",
       "      <td>F</td>\n",
       "      <td>2016-04-29 16:19:04+00:00</td>\n",
       "      <td>2016-04-29 23:59:59+00:00</td>\n",
       "      <td>62</td>\n",
       "      <td>MATA DA PRAIA</td>\n",
       "      <td>0</td>\n",
       "      <td>0</td>\n",
       "      <td>0</td>\n",
       "      <td>0</td>\n",
       "      <td>0</td>\n",
       "      <td>0</td>\n",
       "      <td>No</td>\n",
       "    </tr>\n",
       "    <tr>\n",
       "      <th>3</th>\n",
       "      <td>8.679512e+11</td>\n",
       "      <td>5642828</td>\n",
       "      <td>F</td>\n",
       "      <td>2016-04-29 17:29:31+00:00</td>\n",
       "      <td>2016-04-29 23:59:59+00:00</td>\n",
       "      <td>8</td>\n",
       "      <td>PONTAL DE CAMBURI</td>\n",
       "      <td>0</td>\n",
       "      <td>0</td>\n",
       "      <td>0</td>\n",
       "      <td>0</td>\n",
       "      <td>0</td>\n",
       "      <td>0</td>\n",
       "      <td>No</td>\n",
       "    </tr>\n",
       "    <tr>\n",
       "      <th>4</th>\n",
       "      <td>8.841186e+12</td>\n",
       "      <td>5642494</td>\n",
       "      <td>F</td>\n",
       "      <td>2016-04-29 16:07:23+00:00</td>\n",
       "      <td>2016-04-29 23:59:59+00:00</td>\n",
       "      <td>56</td>\n",
       "      <td>JARDIM DA PENHA</td>\n",
       "      <td>0</td>\n",
       "      <td>1</td>\n",
       "      <td>1</td>\n",
       "      <td>0</td>\n",
       "      <td>0</td>\n",
       "      <td>0</td>\n",
       "      <td>No</td>\n",
       "    </tr>\n",
       "  </tbody>\n",
       "</table>\n",
       "</div>"
      ],
      "text/plain": [
       "      PatientId  AppointmentID Gender              ScheduledDay  \\\n",
       "0  2.987250e+13        5642903      F 2016-04-29 18:38:08+00:00   \n",
       "1  5.589978e+14        5642503      M 2016-04-29 16:08:27+00:00   \n",
       "2  4.262962e+12        5642549      F 2016-04-29 16:19:04+00:00   \n",
       "3  8.679512e+11        5642828      F 2016-04-29 17:29:31+00:00   \n",
       "4  8.841186e+12        5642494      F 2016-04-29 16:07:23+00:00   \n",
       "\n",
       "             AppointmentDay  Age      Neighbourhood  Scholarship  \\\n",
       "0 2016-04-29 23:59:59+00:00   62    JARDIM DA PENHA            0   \n",
       "1 2016-04-29 23:59:59+00:00   56    JARDIM DA PENHA            0   \n",
       "2 2016-04-29 23:59:59+00:00   62      MATA DA PRAIA            0   \n",
       "3 2016-04-29 23:59:59+00:00    8  PONTAL DE CAMBURI            0   \n",
       "4 2016-04-29 23:59:59+00:00   56    JARDIM DA PENHA            0   \n",
       "\n",
       "   Hipertension  Diabetes  Alcoholism  Handcap  SMS_received No-show  \n",
       "0             1         0           0        0             0      No  \n",
       "1             0         0           0        0             0      No  \n",
       "2             0         0           0        0             0      No  \n",
       "3             0         0           0        0             0      No  \n",
       "4             1         1           0        0             0      No  "
      ]
     },
     "execution_count": 17,
     "metadata": {},
     "output_type": "execute_result"
    }
   ],
   "source": [
    "data['AppointmentDay'] = data['AppointmentDay']+pd.Timedelta('1d')-pd.Timedelta('1s')\n",
    "data.head()"
   ]
  },
  {
   "cell_type": "markdown",
   "id": "e78fa7fd",
   "metadata": {},
   "source": [
    "#### 3- Adding waiting_time column "
   ]
  },
  {
   "cell_type": "code",
   "execution_count": 18,
   "id": "ee946f19",
   "metadata": {},
   "outputs": [
    {
     "data": {
      "text/html": [
       "<div>\n",
       "<style scoped>\n",
       "    .dataframe tbody tr th:only-of-type {\n",
       "        vertical-align: middle;\n",
       "    }\n",
       "\n",
       "    .dataframe tbody tr th {\n",
       "        vertical-align: top;\n",
       "    }\n",
       "\n",
       "    .dataframe thead th {\n",
       "        text-align: right;\n",
       "    }\n",
       "</style>\n",
       "<table border=\"1\" class=\"dataframe\">\n",
       "  <thead>\n",
       "    <tr style=\"text-align: right;\">\n",
       "      <th></th>\n",
       "      <th>PatientId</th>\n",
       "      <th>AppointmentID</th>\n",
       "      <th>Gender</th>\n",
       "      <th>ScheduledDay</th>\n",
       "      <th>AppointmentDay</th>\n",
       "      <th>Waiting_time</th>\n",
       "      <th>Age</th>\n",
       "      <th>Neighbourhood</th>\n",
       "      <th>Scholarship</th>\n",
       "      <th>Hipertension</th>\n",
       "      <th>Diabetes</th>\n",
       "      <th>Alcoholism</th>\n",
       "      <th>Handcap</th>\n",
       "      <th>SMS_received</th>\n",
       "      <th>No-show</th>\n",
       "    </tr>\n",
       "  </thead>\n",
       "  <tbody>\n",
       "    <tr>\n",
       "      <th>0</th>\n",
       "      <td>2.987250e+13</td>\n",
       "      <td>5642903</td>\n",
       "      <td>F</td>\n",
       "      <td>2016-04-29 18:38:08+00:00</td>\n",
       "      <td>2016-04-29 23:59:59+00:00</td>\n",
       "      <td>0 days 05:21:51</td>\n",
       "      <td>62</td>\n",
       "      <td>JARDIM DA PENHA</td>\n",
       "      <td>0</td>\n",
       "      <td>1</td>\n",
       "      <td>0</td>\n",
       "      <td>0</td>\n",
       "      <td>0</td>\n",
       "      <td>0</td>\n",
       "      <td>No</td>\n",
       "    </tr>\n",
       "    <tr>\n",
       "      <th>1</th>\n",
       "      <td>5.589978e+14</td>\n",
       "      <td>5642503</td>\n",
       "      <td>M</td>\n",
       "      <td>2016-04-29 16:08:27+00:00</td>\n",
       "      <td>2016-04-29 23:59:59+00:00</td>\n",
       "      <td>0 days 07:51:32</td>\n",
       "      <td>56</td>\n",
       "      <td>JARDIM DA PENHA</td>\n",
       "      <td>0</td>\n",
       "      <td>0</td>\n",
       "      <td>0</td>\n",
       "      <td>0</td>\n",
       "      <td>0</td>\n",
       "      <td>0</td>\n",
       "      <td>No</td>\n",
       "    </tr>\n",
       "    <tr>\n",
       "      <th>2</th>\n",
       "      <td>4.262962e+12</td>\n",
       "      <td>5642549</td>\n",
       "      <td>F</td>\n",
       "      <td>2016-04-29 16:19:04+00:00</td>\n",
       "      <td>2016-04-29 23:59:59+00:00</td>\n",
       "      <td>0 days 07:40:55</td>\n",
       "      <td>62</td>\n",
       "      <td>MATA DA PRAIA</td>\n",
       "      <td>0</td>\n",
       "      <td>0</td>\n",
       "      <td>0</td>\n",
       "      <td>0</td>\n",
       "      <td>0</td>\n",
       "      <td>0</td>\n",
       "      <td>No</td>\n",
       "    </tr>\n",
       "    <tr>\n",
       "      <th>3</th>\n",
       "      <td>8.679512e+11</td>\n",
       "      <td>5642828</td>\n",
       "      <td>F</td>\n",
       "      <td>2016-04-29 17:29:31+00:00</td>\n",
       "      <td>2016-04-29 23:59:59+00:00</td>\n",
       "      <td>0 days 06:30:28</td>\n",
       "      <td>8</td>\n",
       "      <td>PONTAL DE CAMBURI</td>\n",
       "      <td>0</td>\n",
       "      <td>0</td>\n",
       "      <td>0</td>\n",
       "      <td>0</td>\n",
       "      <td>0</td>\n",
       "      <td>0</td>\n",
       "      <td>No</td>\n",
       "    </tr>\n",
       "    <tr>\n",
       "      <th>4</th>\n",
       "      <td>8.841186e+12</td>\n",
       "      <td>5642494</td>\n",
       "      <td>F</td>\n",
       "      <td>2016-04-29 16:07:23+00:00</td>\n",
       "      <td>2016-04-29 23:59:59+00:00</td>\n",
       "      <td>0 days 07:52:36</td>\n",
       "      <td>56</td>\n",
       "      <td>JARDIM DA PENHA</td>\n",
       "      <td>0</td>\n",
       "      <td>1</td>\n",
       "      <td>1</td>\n",
       "      <td>0</td>\n",
       "      <td>0</td>\n",
       "      <td>0</td>\n",
       "      <td>No</td>\n",
       "    </tr>\n",
       "  </tbody>\n",
       "</table>\n",
       "</div>"
      ],
      "text/plain": [
       "      PatientId  AppointmentID Gender              ScheduledDay  \\\n",
       "0  2.987250e+13        5642903      F 2016-04-29 18:38:08+00:00   \n",
       "1  5.589978e+14        5642503      M 2016-04-29 16:08:27+00:00   \n",
       "2  4.262962e+12        5642549      F 2016-04-29 16:19:04+00:00   \n",
       "3  8.679512e+11        5642828      F 2016-04-29 17:29:31+00:00   \n",
       "4  8.841186e+12        5642494      F 2016-04-29 16:07:23+00:00   \n",
       "\n",
       "             AppointmentDay    Waiting_time  Age      Neighbourhood  \\\n",
       "0 2016-04-29 23:59:59+00:00 0 days 05:21:51   62    JARDIM DA PENHA   \n",
       "1 2016-04-29 23:59:59+00:00 0 days 07:51:32   56    JARDIM DA PENHA   \n",
       "2 2016-04-29 23:59:59+00:00 0 days 07:40:55   62      MATA DA PRAIA   \n",
       "3 2016-04-29 23:59:59+00:00 0 days 06:30:28    8  PONTAL DE CAMBURI   \n",
       "4 2016-04-29 23:59:59+00:00 0 days 07:52:36   56    JARDIM DA PENHA   \n",
       "\n",
       "   Scholarship  Hipertension  Diabetes  Alcoholism  Handcap  SMS_received  \\\n",
       "0            0             1         0           0        0             0   \n",
       "1            0             0         0           0        0             0   \n",
       "2            0             0         0           0        0             0   \n",
       "3            0             0         0           0        0             0   \n",
       "4            0             1         1           0        0             0   \n",
       "\n",
       "  No-show  \n",
       "0      No  \n",
       "1      No  \n",
       "2      No  \n",
       "3      No  \n",
       "4      No  "
      ]
     },
     "execution_count": 18,
     "metadata": {},
     "output_type": "execute_result"
    }
   ],
   "source": [
    "wait_col = data['AppointmentDay']-data['ScheduledDay']\n",
    "data.insert(5,'Waiting_time',wait_col)\n",
    "data.head()"
   ]
  },
  {
   "cell_type": "markdown",
   "id": "2fefb59d",
   "metadata": {},
   "source": [
    "#### 4-Renaming columns "
   ]
  },
  {
   "cell_type": "code",
   "execution_count": 19,
   "id": "593879ef",
   "metadata": {},
   "outputs": [],
   "source": [
    "rename_column = { 'patientid' : 'patient_id', 'appointmentid': 'appointment_id',\n",
    "                 'scheduledday' : 'scheduled_day', 'appointmentday':'appointment_day',\n",
    "                  'hipertension':'hypertension' ,'handcap':'handicap',\n",
    "                 'no-show':'show'}"
   ]
  },
  {
   "cell_type": "code",
   "execution_count": 20,
   "id": "5052a972",
   "metadata": {},
   "outputs": [
    {
     "data": {
      "text/plain": [
       "{'patientid': 'patient_id',\n",
       " 'appointmentid': 'appointment_id',\n",
       " 'scheduledday': 'scheduled_day',\n",
       " 'appointmentday': 'appointment_day',\n",
       " 'hipertension': 'hypertension',\n",
       " 'handcap': 'handicap',\n",
       " 'no-show': 'show'}"
      ]
     },
     "execution_count": 20,
     "metadata": {},
     "output_type": "execute_result"
    }
   ],
   "source": [
    "'''function used for renaming columns'''\n",
    "def renaming_col (x):\n",
    "    data.rename(columns = lambda x : x.strip().lower(),inplace = True)\n",
    "    data.rename(columns = rename_column,inplace=True)\n",
    "    return x \n",
    "renaming_col(rename_column)"
   ]
  },
  {
   "cell_type": "code",
   "execution_count": 21,
   "id": "65923765",
   "metadata": {},
   "outputs": [
    {
     "data": {
      "text/html": [
       "<div>\n",
       "<style scoped>\n",
       "    .dataframe tbody tr th:only-of-type {\n",
       "        vertical-align: middle;\n",
       "    }\n",
       "\n",
       "    .dataframe tbody tr th {\n",
       "        vertical-align: top;\n",
       "    }\n",
       "\n",
       "    .dataframe thead th {\n",
       "        text-align: right;\n",
       "    }\n",
       "</style>\n",
       "<table border=\"1\" class=\"dataframe\">\n",
       "  <thead>\n",
       "    <tr style=\"text-align: right;\">\n",
       "      <th></th>\n",
       "      <th>patient_id</th>\n",
       "      <th>appointment_id</th>\n",
       "      <th>gender</th>\n",
       "      <th>scheduled_day</th>\n",
       "      <th>appointment_day</th>\n",
       "      <th>waiting_time</th>\n",
       "      <th>age</th>\n",
       "      <th>neighbourhood</th>\n",
       "      <th>scholarship</th>\n",
       "      <th>hypertension</th>\n",
       "      <th>diabetes</th>\n",
       "      <th>alcoholism</th>\n",
       "      <th>handicap</th>\n",
       "      <th>sms_received</th>\n",
       "      <th>show</th>\n",
       "    </tr>\n",
       "  </thead>\n",
       "  <tbody>\n",
       "    <tr>\n",
       "      <th>0</th>\n",
       "      <td>2.987250e+13</td>\n",
       "      <td>5642903</td>\n",
       "      <td>F</td>\n",
       "      <td>2016-04-29 18:38:08+00:00</td>\n",
       "      <td>2016-04-29 23:59:59+00:00</td>\n",
       "      <td>0 days 05:21:51</td>\n",
       "      <td>62</td>\n",
       "      <td>JARDIM DA PENHA</td>\n",
       "      <td>0</td>\n",
       "      <td>1</td>\n",
       "      <td>0</td>\n",
       "      <td>0</td>\n",
       "      <td>0</td>\n",
       "      <td>0</td>\n",
       "      <td>No</td>\n",
       "    </tr>\n",
       "    <tr>\n",
       "      <th>1</th>\n",
       "      <td>5.589978e+14</td>\n",
       "      <td>5642503</td>\n",
       "      <td>M</td>\n",
       "      <td>2016-04-29 16:08:27+00:00</td>\n",
       "      <td>2016-04-29 23:59:59+00:00</td>\n",
       "      <td>0 days 07:51:32</td>\n",
       "      <td>56</td>\n",
       "      <td>JARDIM DA PENHA</td>\n",
       "      <td>0</td>\n",
       "      <td>0</td>\n",
       "      <td>0</td>\n",
       "      <td>0</td>\n",
       "      <td>0</td>\n",
       "      <td>0</td>\n",
       "      <td>No</td>\n",
       "    </tr>\n",
       "    <tr>\n",
       "      <th>2</th>\n",
       "      <td>4.262962e+12</td>\n",
       "      <td>5642549</td>\n",
       "      <td>F</td>\n",
       "      <td>2016-04-29 16:19:04+00:00</td>\n",
       "      <td>2016-04-29 23:59:59+00:00</td>\n",
       "      <td>0 days 07:40:55</td>\n",
       "      <td>62</td>\n",
       "      <td>MATA DA PRAIA</td>\n",
       "      <td>0</td>\n",
       "      <td>0</td>\n",
       "      <td>0</td>\n",
       "      <td>0</td>\n",
       "      <td>0</td>\n",
       "      <td>0</td>\n",
       "      <td>No</td>\n",
       "    </tr>\n",
       "  </tbody>\n",
       "</table>\n",
       "</div>"
      ],
      "text/plain": [
       "     patient_id  appointment_id gender             scheduled_day  \\\n",
       "0  2.987250e+13         5642903      F 2016-04-29 18:38:08+00:00   \n",
       "1  5.589978e+14         5642503      M 2016-04-29 16:08:27+00:00   \n",
       "2  4.262962e+12         5642549      F 2016-04-29 16:19:04+00:00   \n",
       "\n",
       "            appointment_day    waiting_time  age    neighbourhood  \\\n",
       "0 2016-04-29 23:59:59+00:00 0 days 05:21:51   62  JARDIM DA PENHA   \n",
       "1 2016-04-29 23:59:59+00:00 0 days 07:51:32   56  JARDIM DA PENHA   \n",
       "2 2016-04-29 23:59:59+00:00 0 days 07:40:55   62    MATA DA PRAIA   \n",
       "\n",
       "   scholarship  hypertension  diabetes  alcoholism  handicap  sms_received  \\\n",
       "0            0             1         0           0         0             0   \n",
       "1            0             0         0           0         0             0   \n",
       "2            0             0         0           0         0             0   \n",
       "\n",
       "  show  \n",
       "0   No  \n",
       "1   No  \n",
       "2   No  "
      ]
     },
     "execution_count": 21,
     "metadata": {},
     "output_type": "execute_result"
    }
   ],
   "source": [
    "data.head(3)"
   ]
  },
  {
   "cell_type": "code",
   "execution_count": 22,
   "id": "b71df384",
   "metadata": {},
   "outputs": [],
   "source": [
    "data['show'].replace(['Yes','No'],[0,1],inplace=True)"
   ]
  },
  {
   "cell_type": "code",
   "execution_count": 23,
   "id": "caf0129d",
   "metadata": {},
   "outputs": [],
   "source": [
    "show = data['show']*100"
   ]
  },
  {
   "cell_type": "code",
   "execution_count": 24,
   "id": "e336ea6d",
   "metadata": {},
   "outputs": [
    {
     "data": {
      "text/html": [
       "<div>\n",
       "<style scoped>\n",
       "    .dataframe tbody tr th:only-of-type {\n",
       "        vertical-align: middle;\n",
       "    }\n",
       "\n",
       "    .dataframe tbody tr th {\n",
       "        vertical-align: top;\n",
       "    }\n",
       "\n",
       "    .dataframe thead th {\n",
       "        text-align: right;\n",
       "    }\n",
       "</style>\n",
       "<table border=\"1\" class=\"dataframe\">\n",
       "  <thead>\n",
       "    <tr style=\"text-align: right;\">\n",
       "      <th></th>\n",
       "      <th>patient_id</th>\n",
       "      <th>appointment_id</th>\n",
       "      <th>gender</th>\n",
       "      <th>scheduled_day</th>\n",
       "      <th>appointment_day</th>\n",
       "      <th>waiting_time</th>\n",
       "      <th>age</th>\n",
       "      <th>neighbourhood</th>\n",
       "      <th>scholarship</th>\n",
       "      <th>hypertension</th>\n",
       "      <th>diabetes</th>\n",
       "      <th>alcoholism</th>\n",
       "      <th>handicap</th>\n",
       "      <th>sms_received</th>\n",
       "      <th>show</th>\n",
       "    </tr>\n",
       "  </thead>\n",
       "  <tbody>\n",
       "    <tr>\n",
       "      <th>0</th>\n",
       "      <td>2.987250e+13</td>\n",
       "      <td>5642903</td>\n",
       "      <td>F</td>\n",
       "      <td>2016-04-29 18:38:08+00:00</td>\n",
       "      <td>2016-04-29 23:59:59+00:00</td>\n",
       "      <td>0 days 05:21:51</td>\n",
       "      <td>62</td>\n",
       "      <td>JARDIM DA PENHA</td>\n",
       "      <td>0</td>\n",
       "      <td>1</td>\n",
       "      <td>0</td>\n",
       "      <td>0</td>\n",
       "      <td>0</td>\n",
       "      <td>0</td>\n",
       "      <td>1</td>\n",
       "    </tr>\n",
       "    <tr>\n",
       "      <th>1</th>\n",
       "      <td>5.589978e+14</td>\n",
       "      <td>5642503</td>\n",
       "      <td>M</td>\n",
       "      <td>2016-04-29 16:08:27+00:00</td>\n",
       "      <td>2016-04-29 23:59:59+00:00</td>\n",
       "      <td>0 days 07:51:32</td>\n",
       "      <td>56</td>\n",
       "      <td>JARDIM DA PENHA</td>\n",
       "      <td>0</td>\n",
       "      <td>0</td>\n",
       "      <td>0</td>\n",
       "      <td>0</td>\n",
       "      <td>0</td>\n",
       "      <td>0</td>\n",
       "      <td>1</td>\n",
       "    </tr>\n",
       "    <tr>\n",
       "      <th>2</th>\n",
       "      <td>4.262962e+12</td>\n",
       "      <td>5642549</td>\n",
       "      <td>F</td>\n",
       "      <td>2016-04-29 16:19:04+00:00</td>\n",
       "      <td>2016-04-29 23:59:59+00:00</td>\n",
       "      <td>0 days 07:40:55</td>\n",
       "      <td>62</td>\n",
       "      <td>MATA DA PRAIA</td>\n",
       "      <td>0</td>\n",
       "      <td>0</td>\n",
       "      <td>0</td>\n",
       "      <td>0</td>\n",
       "      <td>0</td>\n",
       "      <td>0</td>\n",
       "      <td>1</td>\n",
       "    </tr>\n",
       "    <tr>\n",
       "      <th>3</th>\n",
       "      <td>8.679512e+11</td>\n",
       "      <td>5642828</td>\n",
       "      <td>F</td>\n",
       "      <td>2016-04-29 17:29:31+00:00</td>\n",
       "      <td>2016-04-29 23:59:59+00:00</td>\n",
       "      <td>0 days 06:30:28</td>\n",
       "      <td>8</td>\n",
       "      <td>PONTAL DE CAMBURI</td>\n",
       "      <td>0</td>\n",
       "      <td>0</td>\n",
       "      <td>0</td>\n",
       "      <td>0</td>\n",
       "      <td>0</td>\n",
       "      <td>0</td>\n",
       "      <td>1</td>\n",
       "    </tr>\n",
       "    <tr>\n",
       "      <th>4</th>\n",
       "      <td>8.841186e+12</td>\n",
       "      <td>5642494</td>\n",
       "      <td>F</td>\n",
       "      <td>2016-04-29 16:07:23+00:00</td>\n",
       "      <td>2016-04-29 23:59:59+00:00</td>\n",
       "      <td>0 days 07:52:36</td>\n",
       "      <td>56</td>\n",
       "      <td>JARDIM DA PENHA</td>\n",
       "      <td>0</td>\n",
       "      <td>1</td>\n",
       "      <td>1</td>\n",
       "      <td>0</td>\n",
       "      <td>0</td>\n",
       "      <td>0</td>\n",
       "      <td>1</td>\n",
       "    </tr>\n",
       "  </tbody>\n",
       "</table>\n",
       "</div>"
      ],
      "text/plain": [
       "     patient_id  appointment_id gender             scheduled_day  \\\n",
       "0  2.987250e+13         5642903      F 2016-04-29 18:38:08+00:00   \n",
       "1  5.589978e+14         5642503      M 2016-04-29 16:08:27+00:00   \n",
       "2  4.262962e+12         5642549      F 2016-04-29 16:19:04+00:00   \n",
       "3  8.679512e+11         5642828      F 2016-04-29 17:29:31+00:00   \n",
       "4  8.841186e+12         5642494      F 2016-04-29 16:07:23+00:00   \n",
       "\n",
       "            appointment_day    waiting_time  age      neighbourhood  \\\n",
       "0 2016-04-29 23:59:59+00:00 0 days 05:21:51   62    JARDIM DA PENHA   \n",
       "1 2016-04-29 23:59:59+00:00 0 days 07:51:32   56    JARDIM DA PENHA   \n",
       "2 2016-04-29 23:59:59+00:00 0 days 07:40:55   62      MATA DA PRAIA   \n",
       "3 2016-04-29 23:59:59+00:00 0 days 06:30:28    8  PONTAL DE CAMBURI   \n",
       "4 2016-04-29 23:59:59+00:00 0 days 07:52:36   56    JARDIM DA PENHA   \n",
       "\n",
       "   scholarship  hypertension  diabetes  alcoholism  handicap  sms_received  \\\n",
       "0            0             1         0           0         0             0   \n",
       "1            0             0         0           0         0             0   \n",
       "2            0             0         0           0         0             0   \n",
       "3            0             0         0           0         0             0   \n",
       "4            0             1         1           0         0             0   \n",
       "\n",
       "   show  \n",
       "0     1  \n",
       "1     1  \n",
       "2     1  \n",
       "3     1  \n",
       "4     1  "
      ]
     },
     "execution_count": 24,
     "metadata": {},
     "output_type": "execute_result"
    }
   ],
   "source": [
    "data.head()"
   ]
  },
  {
   "cell_type": "markdown",
   "id": "112a1204",
   "metadata": {},
   "source": [
    "# Data_Analysis  "
   ]
  },
  {
   "cell_type": "markdown",
   "id": "21fd3cff",
   "metadata": {},
   "source": [
    "## Q1- Is there any correlation between the data ? "
   ]
  },
  {
   "cell_type": "code",
   "execution_count": 25,
   "id": "7eb5110c",
   "metadata": {},
   "outputs": [
    {
     "data": {
      "text/html": [
       "<div>\n",
       "<style scoped>\n",
       "    .dataframe tbody tr th:only-of-type {\n",
       "        vertical-align: middle;\n",
       "    }\n",
       "\n",
       "    .dataframe tbody tr th {\n",
       "        vertical-align: top;\n",
       "    }\n",
       "\n",
       "    .dataframe thead th {\n",
       "        text-align: right;\n",
       "    }\n",
       "</style>\n",
       "<table border=\"1\" class=\"dataframe\">\n",
       "  <thead>\n",
       "    <tr style=\"text-align: right;\">\n",
       "      <th></th>\n",
       "      <th>patient_id</th>\n",
       "      <th>appointment_id</th>\n",
       "      <th>age</th>\n",
       "      <th>scholarship</th>\n",
       "      <th>hypertension</th>\n",
       "      <th>diabetes</th>\n",
       "      <th>alcoholism</th>\n",
       "      <th>handicap</th>\n",
       "      <th>sms_received</th>\n",
       "      <th>show</th>\n",
       "    </tr>\n",
       "  </thead>\n",
       "  <tbody>\n",
       "    <tr>\n",
       "      <th>patient_id</th>\n",
       "      <td>1.000000</td>\n",
       "      <td>0.004039</td>\n",
       "      <td>-0.004139</td>\n",
       "      <td>-0.002880</td>\n",
       "      <td>-0.006441</td>\n",
       "      <td>0.001605</td>\n",
       "      <td>0.011011</td>\n",
       "      <td>-0.007916</td>\n",
       "      <td>-0.009749</td>\n",
       "      <td>0.001461</td>\n",
       "    </tr>\n",
       "    <tr>\n",
       "      <th>appointment_id</th>\n",
       "      <td>0.004039</td>\n",
       "      <td>1.000000</td>\n",
       "      <td>-0.019126</td>\n",
       "      <td>0.022615</td>\n",
       "      <td>0.012752</td>\n",
       "      <td>0.022628</td>\n",
       "      <td>0.032944</td>\n",
       "      <td>0.014106</td>\n",
       "      <td>-0.256618</td>\n",
       "      <td>0.162602</td>\n",
       "    </tr>\n",
       "    <tr>\n",
       "      <th>age</th>\n",
       "      <td>-0.004139</td>\n",
       "      <td>-0.019126</td>\n",
       "      <td>1.000000</td>\n",
       "      <td>-0.092457</td>\n",
       "      <td>0.504586</td>\n",
       "      <td>0.292391</td>\n",
       "      <td>0.095811</td>\n",
       "      <td>0.078033</td>\n",
       "      <td>0.012643</td>\n",
       "      <td>0.060319</td>\n",
       "    </tr>\n",
       "    <tr>\n",
       "      <th>scholarship</th>\n",
       "      <td>-0.002880</td>\n",
       "      <td>0.022615</td>\n",
       "      <td>-0.092457</td>\n",
       "      <td>1.000000</td>\n",
       "      <td>-0.019729</td>\n",
       "      <td>-0.024894</td>\n",
       "      <td>0.035022</td>\n",
       "      <td>-0.008586</td>\n",
       "      <td>0.001194</td>\n",
       "      <td>-0.029135</td>\n",
       "    </tr>\n",
       "    <tr>\n",
       "      <th>hypertension</th>\n",
       "      <td>-0.006441</td>\n",
       "      <td>0.012752</td>\n",
       "      <td>0.504586</td>\n",
       "      <td>-0.019729</td>\n",
       "      <td>1.000000</td>\n",
       "      <td>0.433086</td>\n",
       "      <td>0.087971</td>\n",
       "      <td>0.080083</td>\n",
       "      <td>-0.006267</td>\n",
       "      <td>0.035701</td>\n",
       "    </tr>\n",
       "    <tr>\n",
       "      <th>diabetes</th>\n",
       "      <td>0.001605</td>\n",
       "      <td>0.022628</td>\n",
       "      <td>0.292391</td>\n",
       "      <td>-0.024894</td>\n",
       "      <td>0.433086</td>\n",
       "      <td>1.000000</td>\n",
       "      <td>0.018474</td>\n",
       "      <td>0.057530</td>\n",
       "      <td>-0.014550</td>\n",
       "      <td>0.015180</td>\n",
       "    </tr>\n",
       "    <tr>\n",
       "      <th>alcoholism</th>\n",
       "      <td>0.011011</td>\n",
       "      <td>0.032944</td>\n",
       "      <td>0.095811</td>\n",
       "      <td>0.035022</td>\n",
       "      <td>0.087971</td>\n",
       "      <td>0.018474</td>\n",
       "      <td>1.000000</td>\n",
       "      <td>0.004648</td>\n",
       "      <td>-0.026147</td>\n",
       "      <td>0.000196</td>\n",
       "    </tr>\n",
       "    <tr>\n",
       "      <th>handicap</th>\n",
       "      <td>-0.007916</td>\n",
       "      <td>0.014106</td>\n",
       "      <td>0.078033</td>\n",
       "      <td>-0.008586</td>\n",
       "      <td>0.080083</td>\n",
       "      <td>0.057530</td>\n",
       "      <td>0.004648</td>\n",
       "      <td>1.000000</td>\n",
       "      <td>-0.024161</td>\n",
       "      <td>0.006076</td>\n",
       "    </tr>\n",
       "    <tr>\n",
       "      <th>sms_received</th>\n",
       "      <td>-0.009749</td>\n",
       "      <td>-0.256618</td>\n",
       "      <td>0.012643</td>\n",
       "      <td>0.001194</td>\n",
       "      <td>-0.006267</td>\n",
       "      <td>-0.014550</td>\n",
       "      <td>-0.026147</td>\n",
       "      <td>-0.024161</td>\n",
       "      <td>1.000000</td>\n",
       "      <td>-0.126431</td>\n",
       "    </tr>\n",
       "    <tr>\n",
       "      <th>show</th>\n",
       "      <td>0.001461</td>\n",
       "      <td>0.162602</td>\n",
       "      <td>0.060319</td>\n",
       "      <td>-0.029135</td>\n",
       "      <td>0.035701</td>\n",
       "      <td>0.015180</td>\n",
       "      <td>0.000196</td>\n",
       "      <td>0.006076</td>\n",
       "      <td>-0.126431</td>\n",
       "      <td>1.000000</td>\n",
       "    </tr>\n",
       "  </tbody>\n",
       "</table>\n",
       "</div>"
      ],
      "text/plain": [
       "                patient_id  appointment_id       age  scholarship  \\\n",
       "patient_id        1.000000        0.004039 -0.004139    -0.002880   \n",
       "appointment_id    0.004039        1.000000 -0.019126     0.022615   \n",
       "age              -0.004139       -0.019126  1.000000    -0.092457   \n",
       "scholarship      -0.002880        0.022615 -0.092457     1.000000   \n",
       "hypertension     -0.006441        0.012752  0.504586    -0.019729   \n",
       "diabetes          0.001605        0.022628  0.292391    -0.024894   \n",
       "alcoholism        0.011011        0.032944  0.095811     0.035022   \n",
       "handicap         -0.007916        0.014106  0.078033    -0.008586   \n",
       "sms_received     -0.009749       -0.256618  0.012643     0.001194   \n",
       "show              0.001461        0.162602  0.060319    -0.029135   \n",
       "\n",
       "                hypertension  diabetes  alcoholism  handicap  sms_received  \\\n",
       "patient_id         -0.006441  0.001605    0.011011 -0.007916     -0.009749   \n",
       "appointment_id      0.012752  0.022628    0.032944  0.014106     -0.256618   \n",
       "age                 0.504586  0.292391    0.095811  0.078033      0.012643   \n",
       "scholarship        -0.019729 -0.024894    0.035022 -0.008586      0.001194   \n",
       "hypertension        1.000000  0.433086    0.087971  0.080083     -0.006267   \n",
       "diabetes            0.433086  1.000000    0.018474  0.057530     -0.014550   \n",
       "alcoholism          0.087971  0.018474    1.000000  0.004648     -0.026147   \n",
       "handicap            0.080083  0.057530    0.004648  1.000000     -0.024161   \n",
       "sms_received       -0.006267 -0.014550   -0.026147 -0.024161      1.000000   \n",
       "show                0.035701  0.015180    0.000196  0.006076     -0.126431   \n",
       "\n",
       "                    show  \n",
       "patient_id      0.001461  \n",
       "appointment_id  0.162602  \n",
       "age             0.060319  \n",
       "scholarship    -0.029135  \n",
       "hypertension    0.035701  \n",
       "diabetes        0.015180  \n",
       "alcoholism      0.000196  \n",
       "handicap        0.006076  \n",
       "sms_received   -0.126431  \n",
       "show            1.000000  "
      ]
     },
     "execution_count": 25,
     "metadata": {},
     "output_type": "execute_result"
    }
   ],
   "source": [
    "data.corr()"
   ]
  },
  {
   "cell_type": "code",
   "execution_count": 34,
   "id": "857a4f00",
   "metadata": {},
   "outputs": [
    {
     "data": {
      "image/png": "[encoded data removed]",
      "text/plain": [
       "<Figure size 432x288 with 2 Axes>"
      ]
     },
     "metadata": {
      "needs_background": "light"
     },
     "output_type": "display_data"
    },
    {
     "data": {
      "text/plain": [
       "<Figure size 720x360 with 0 Axes>"
      ]
     },
     "metadata": {},
     "output_type": "display_data"
    }
   ],
   "source": [
    "plt.title('Correlation between data set');\n",
    "sns.heatmap(data.corr(),linewidth=2);\n",
    "plt.figure(figsize=(10,5));"
   ]
  },
  {
   "cell_type": "markdown",
   "id": "cbc73622",
   "metadata": {},
   "source": [
    "##### From the graph above we can deduce the follow : "
   ]
  },
  {
   "cell_type": "markdown",
   "id": "32c443fc",
   "metadata": {},
   "source": [
    "- Hypertension has strong positive correlation with Age . "
   ]
  },
  {
   "cell_type": "markdown",
   "id": "c18e9b54",
   "metadata": {},
   "source": [
    "- Hypertension has a medium positive correlation with Diabetes . "
   ]
  },
  {
   "cell_type": "markdown",
   "id": "ff139aeb",
   "metadata": {},
   "source": [
    "- scholarship has anegative correlation with show . "
   ]
  },
  {
   "cell_type": "markdown",
   "id": "2da5548d",
   "metadata": {},
   "source": [
    "## Q2- What is the ratio between Males and Females ? "
   ]
  },
  {
   "cell_type": "code",
   "execution_count": 35,
   "id": "6ae0feaa",
   "metadata": {},
   "outputs": [
    {
     "data": {
      "image/png": "[encoded data removed]",
      "text/plain": [
       "<Figure size 432x288 with 1 Axes>"
      ]
     },
     "metadata": {},
     "output_type": "display_data"
    }
   ],
   "source": [
    "plt.pie(data[\"gender\"].value_counts(),labels=['Female','Male']);\n",
    "plt.title('The ratio between Male and Females');"
   ]
  },
  {
   "cell_type": "markdown",
   "id": "98430580",
   "metadata": {},
   "source": [
    "We used apie chart to answer this question , As we can see the ratio between Males and Females is 1:2 . "
   ]
  },
  {
   "cell_type": "markdown",
   "id": "28baaae8",
   "metadata": {},
   "source": [
    "## Q3 - How gender affect showing up at the appointment ? "
   ]
  },
  {
   "cell_type": "code",
   "execution_count": 28,
   "id": "d8d7360c",
   "metadata": {},
   "outputs": [
    {
     "data": {
      "image/png": "[encoded data removed]",
      "text/plain": [
       "<Figure size 432x288 with 1 Axes>"
      ]
     },
     "metadata": {
      "needs_background": "light"
     },
     "output_type": "display_data"
    }
   ],
   "source": [
    "sns.countplot(data = data,x = data['gender'],hue= data['show'],palette='Blues');\n",
    "plt.title('Number of Male and Females according to showing up in Appointment');\n",
    "plt.xlabel('Gender');\n",
    "plt.ylabel('Number of shows and no shows');"
   ]
  },
  {
   "cell_type": "markdown",
   "id": "f5934b5c",
   "metadata": {},
   "source": [
    " we could see clearly that Number of females attending the appointment is more than males but this could be because of the difference in ratio between males and females . but we could also see that the number of Females and Males attending the appointment is more than who don't attend the appointment . so that we can conclude that showing up at the appointment doesn't depend on Gender . "
   ]
  },
  {
   "cell_type": "markdown",
   "id": "ce3076a2",
   "metadata": {},
   "source": [
    "## Q4- How Gender having scholarship affect showing up at the appointment ? "
   ]
  },
  {
   "cell_type": "markdown",
   "id": "e5dd4510",
   "metadata": {},
   "source": [
    "We start grouping gender , scholarship , shows and patient id to find the count of gender having scholarship and attend the appointment . "
   ]
  },
  {
   "cell_type": "code",
   "execution_count": 20,
   "id": "bd32d731",
   "metadata": {},
   "outputs": [
    {
     "data": {
      "text/plain": [
       "gender  scholarship  show\n",
       "F       0            0       12488\n",
       "                     1       50499\n",
       "        1            0        2106\n",
       "                     1        6747\n",
       "M       0            0        7253\n",
       "                     1       29426\n",
       "        1            0         472\n",
       "                     1        1536\n",
       "Name: patient_id, dtype: int64"
      ]
     },
     "execution_count": 20,
     "metadata": {},
     "output_type": "execute_result"
    }
   ],
   "source": [
    "data.groupby(['gender','scholarship','show'])['patient_id'].count()\n"
   ]
  },
  {
   "cell_type": "markdown",
   "id": "ddf6f010",
   "metadata": {},
   "source": [
    "From the above code we could deduce that: 1- in case of Females without scholarship the majority attend to show up at the appointment. 2- Females with scholarship the majority attend to show also . so, we can conclude that showing up at the appointment doesn't depend on scholarship in females . \n"
   ]
  },
  {
   "cell_type": "markdown",
   "id": "9db1087e",
   "metadata": {},
   "source": [
    "In cas of Males without scholarship the majority attend the appointment . Also Males having scholarship people who attend the appointment take the major part . so, We conclude that in both males and female showing up don't depend on scholarship. "
   ]
  },
  {
   "cell_type": "code",
   "execution_count": 21,
   "id": "4bb48ee3",
   "metadata": {},
   "outputs": [
    {
     "data": {
      "image/png": "[encoded data removed]",
      "text/plain": [
       "<Figure size 432x288 with 1 Axes>"
      ]
     },
     "metadata": {
      "needs_background": "light"
     },
     "output_type": "display_data"
    }
   ],
   "source": [
    "sns.countplot(data=data,x='show',palette='Blues');\n",
    "plt.title(\"Ratio between people attend the appointment to people who don't attend\");\n",
    "plt.xticks([0,1],['No','Yes']);\n",
    "plt.ylabel('Number of people');"
   ]
  },
  {
   "cell_type": "markdown",
   "id": "e4563a47",
   "metadata": {},
   "source": [
    "This graph shows the ratio between people who attend the appointment to who don't attend."
   ]
  },
  {
   "cell_type": "code",
   "execution_count": 22,
   "id": "44d4640b",
   "metadata": {},
   "outputs": [
    {
     "data": {
      "image/png": "[encoded data removed]",
      "text/plain": [
       "<Figure size 432x288 with 1 Axes>"
      ]
     },
     "metadata": {
      "needs_background": "light"
     },
     "output_type": "display_data"
    }
   ],
   "source": [
    "sns.barplot(data=data,x=data['gender'],y=show,hue=data['scholarship'],palette='Blues');\n",
    "plt.title('Relation between gender having scholarship and attending the appointment');"
   ]
  },
  {
   "cell_type": "markdown",
   "id": "4b2db202",
   "metadata": {},
   "source": [
    "This graph shows that there is no relation between having scholarship and showing up at the appointment .  "
   ]
  },
  {
   "cell_type": "markdown",
   "id": "a13a23b8",
   "metadata": {},
   "source": [
    "## Q5- What is the ratio between people with scholarship and people without ?"
   ]
  },
  {
   "cell_type": "code",
   "execution_count": 24,
   "id": "a5691b6c",
   "metadata": {},
   "outputs": [
    {
     "data": {
      "text/plain": [
       "0    99666\n",
       "1    10861\n",
       "Name: scholarship, dtype: int64"
      ]
     },
     "execution_count": 24,
     "metadata": {},
     "output_type": "execute_result"
    }
   ],
   "source": [
    "data['scholarship'].value_counts()"
   ]
  },
  {
   "cell_type": "code",
   "execution_count": 23,
   "id": "dbcb88c2",
   "metadata": {},
   "outputs": [
    {
     "data": {
      "image/png": "[encoded data removed]",
      "text/plain": [
       "<Figure size 432x288 with 1 Axes>"
      ]
     },
     "metadata": {},
     "output_type": "display_data"
    }
   ],
   "source": [
    "plt.pie(data['scholarship'].value_counts(),labels=['without_scholarship','with_scholarship']);\n",
    "plt.title('Ratio between people with scholarship and people without ');"
   ]
  },
  {
   "cell_type": "markdown",
   "id": "e85ffd45",
   "metadata": {},
   "source": [
    "From the Pie chart we can deduce that nearly 80% of people don't have scholarship . "
   ]
  },
  {
   "cell_type": "markdown",
   "id": "cfc68f55",
   "metadata": {},
   "source": [
    "## Q6- Is there a relation between having handicap and showing up at the appointment ? "
   ]
  },
  {
   "cell_type": "markdown",
   "id": "505078aa",
   "metadata": {},
   "source": [
    "I will start by counting down the people who had handicap . "
   ]
  },
  {
   "cell_type": "code",
   "execution_count": 27,
   "id": "91a26ab4",
   "metadata": {},
   "outputs": [
    {
     "data": {
      "text/plain": [
       "0    108286\n",
       "1      2042\n",
       "2       183\n",
       "3        13\n",
       "4         3\n",
       "Name: handicap, dtype: int64"
      ]
     },
     "execution_count": 27,
     "metadata": {},
     "output_type": "execute_result"
    }
   ],
   "source": [
    "data['handicap'].value_counts()"
   ]
  },
  {
   "cell_type": "markdown",
   "id": "c2173f79",
   "metadata": {},
   "source": [
    "Since we want to find relation between handicaped and not handicaped . we just will assign people with more than one handicap to people who had one handicap to make the analysis much easier . "
   ]
  },
  {
   "cell_type": "code",
   "execution_count": 28,
   "id": "c4c99343",
   "metadata": {},
   "outputs": [],
   "source": [
    "data['handicap'].replace({0:0,1:1,2:1,3:1,4:1},inplace=True)"
   ]
  },
  {
   "cell_type": "code",
   "execution_count": 29,
   "id": "3864d1d4",
   "metadata": {},
   "outputs": [
    {
     "data": {
      "text/plain": [
       "0    108286\n",
       "1      2241\n",
       "Name: handicap, dtype: int64"
      ]
     },
     "execution_count": 29,
     "metadata": {},
     "output_type": "execute_result"
    }
   ],
   "source": [
    "data['handicap'].value_counts()"
   ]
  },
  {
   "cell_type": "code",
   "execution_count": 31,
   "id": "95526447",
   "metadata": {},
   "outputs": [
    {
     "data": {
      "image/png": "[encoded data removed]",
      "text/plain": [
       "<Figure size 432x288 with 1 Axes>"
      ]
     },
     "metadata": {
      "needs_background": "light"
     },
     "output_type": "display_data"
    }
   ],
   "source": [
    "sns.countplot(data=data,x='handicap',hue='show')\n",
    "plt.title('The relation between people with handicap and showing up at appointment');"
   ]
  },
  {
   "cell_type": "markdown",
   "id": "6ed8a4e0",
   "metadata": {},
   "source": [
    "We could see that people who had handicap most of them show up at the appointment.On the otherside people who don't have handicap the majority attend the appointment too . so we need to seperate genders to make the analysis more specific."
   ]
  },
  {
   "cell_type": "code",
   "execution_count": 32,
   "id": "753aef3b",
   "metadata": {},
   "outputs": [
    {
     "data": {
      "image/png": "[encoded data removed]",
      "text/plain": [
       "<Figure size 432x288 with 1 Axes>"
      ]
     },
     "metadata": {
      "needs_background": "light"
     },
     "output_type": "display_data"
    }
   ],
   "source": [
    "sns.barplot(data=data,x='gender',y=show,hue='handicap',palette='Blues');\n",
    "plt.title('Relation between gender having handicap and showing up at appointment');\n",
    "plt.ylabel('Percentage of showing up');"
   ]
  },
  {
   "cell_type": "markdown",
   "id": "d82d5d5a",
   "metadata": {},
   "source": [
    "From the graph we concluded that there is positive correlation between gender having handicap and showing up at the appointment . "
   ]
  },
  {
   "cell_type": "markdown",
   "id": "c5ed8382",
   "metadata": {},
   "source": [
    "## Q7- Is there a relation between having hypertension and showing up at appointment ? "
   ]
  },
  {
   "cell_type": "code",
   "execution_count": 33,
   "id": "edf63726",
   "metadata": {},
   "outputs": [
    {
     "data": {
      "text/plain": [
       "0    88726\n",
       "1    21801\n",
       "Name: hypertension, dtype: int64"
      ]
     },
     "execution_count": 33,
     "metadata": {},
     "output_type": "execute_result"
    }
   ],
   "source": [
    "data['hypertension'].value_counts()"
   ]
  },
  {
   "cell_type": "markdown",
   "id": "a0bf5e41",
   "metadata": {},
   "source": [
    "We could see that people who don't have hypertension is more than who had and the following graph will discuss it obviously "
   ]
  },
  {
   "cell_type": "code",
   "execution_count": 34,
   "id": "c9b30e75",
   "metadata": {},
   "outputs": [
    {
     "data": {
      "image/png": "[encoded data removed]",
      "text/plain": [
       "<Figure size 432x288 with 1 Axes>"
      ]
     },
     "metadata": {
      "needs_background": "light"
     },
     "output_type": "display_data"
    }
   ],
   "source": [
    "sns.countplot(data=data,x='hypertension',palette='Blues');\n",
    "plt.title('The ratio between people who had hypertension and people who don\\'t' );\n",
    "plt.ylabel('Number of people');"
   ]
  },
  {
   "cell_type": "markdown",
   "id": "861f7ba9",
   "metadata": {},
   "source": [
    "We can then find a relation between hypertension and showing up at appointment . "
   ]
  },
  {
   "cell_type": "code",
   "execution_count": 36,
   "id": "b0c1bfea",
   "metadata": {},
   "outputs": [
    {
     "data": {
      "image/png": "[encoded data removed]",
      "text/plain": [
       "<Figure size 432x288 with 1 Axes>"
      ]
     },
     "metadata": {
      "needs_background": "light"
     },
     "output_type": "display_data"
    }
   ],
   "source": [
    "sns.countplot(data=data,x='hypertension',hue='show',palette='Blues');\n",
    "plt.title('Relation between hypertension and showing up ');"
   ]
  },
  {
   "cell_type": "markdown",
   "id": "012e8891",
   "metadata": {},
   "source": [
    "From the graph we could see that the majority of people show up at the appointment in both cases so we will seperate genders to be more specific . "
   ]
  },
  {
   "cell_type": "code",
   "execution_count": 37,
   "id": "8477ef18",
   "metadata": {},
   "outputs": [
    {
     "data": {
      "image/png": "[encoded data removed]",
      "text/plain": [
       "<Figure size 432x288 with 1 Axes>"
      ]
     },
     "metadata": {
      "needs_background": "light"
     },
     "output_type": "display_data"
    }
   ],
   "source": [
    "sns.barplot(data=data,x='gender',y=show,hue='hypertension',palette='Blues');\n",
    "plt.title('Affect of gender having hypertension in showing up at appointment');\n",
    "plt.ylabel('percentage of showing up');"
   ]
  },
  {
   "cell_type": "markdown",
   "id": "f32a8ad3",
   "metadata": {},
   "source": [
    "We could see from the graph that there is a positive correlation between having hypertension and attending the appointment.\n",
    "Since gender having hypertension seems to attend appointment more than gender who don't have hypertension. Although people who don't have hypertension is more than who don't have . "
   ]
  },
  {
   "cell_type": "markdown",
   "id": "f4793cc7",
   "metadata": {},
   "source": [
    "## Q8- Relation between having diabetes and showing up at appointment ? "
   ]
  },
  {
   "cell_type": "markdown",
   "id": "1b93656f",
   "metadata": {},
   "source": [
    "We could start by counting down people who had diabetes "
   ]
  },
  {
   "cell_type": "code",
   "execution_count": 38,
   "id": "66b4ac6f",
   "metadata": {},
   "outputs": [
    {
     "data": {
      "text/plain": [
       "0    102584\n",
       "1      7943\n",
       "Name: diabetes, dtype: int64"
      ]
     },
     "execution_count": 38,
     "metadata": {},
     "output_type": "execute_result"
    }
   ],
   "source": [
    "data['diabetes'].value_counts()"
   ]
  },
  {
   "cell_type": "code",
   "execution_count": 39,
   "id": "ab73979c",
   "metadata": {},
   "outputs": [
    {
     "data": {
      "image/png": "[encoded data removed]",
      "text/plain": [
       "<Figure size 432x288 with 1 Axes>"
      ]
     },
     "metadata": {},
     "output_type": "display_data"
    }
   ],
   "source": [
    "plt.pie(data['diabetes'].value_counts(),labels=['non-diabetic','diabetic']);\n",
    "plt.title('Ratio of people having diabetes');"
   ]
  },
  {
   "cell_type": "markdown",
   "id": "cb7a389b",
   "metadata": {},
   "source": [
    "As we can see people who don't have diabetes is nearly 80% . "
   ]
  },
  {
   "cell_type": "markdown",
   "id": "e349faee",
   "metadata": {},
   "source": [
    "We will now put a relation between having diabetes and showing up at appointment . "
   ]
  },
  {
   "cell_type": "code",
   "execution_count": 40,
   "id": "740271aa",
   "metadata": {},
   "outputs": [
    {
     "data": {
      "image/png": "[encoded data removed]",
      "text/plain": [
       "<Figure size 432x288 with 1 Axes>"
      ]
     },
     "metadata": {
      "needs_background": "light"
     },
     "output_type": "display_data"
    }
   ],
   "source": [
    "sns.countplot(data=data,x='diabetes',hue='show',palette='Blues');\n"
   ]
  },
  {
   "cell_type": "markdown",
   "id": "22a5959b",
   "metadata": {},
   "source": [
    "We could see that the majority of people attend the appointment in both cases . so, we need to seperate genders to be more specific . "
   ]
  },
  {
   "cell_type": "markdown",
   "id": "f54fc54f",
   "metadata": {},
   "source": [
    "Now let's make a plot shows the relation between gender , diabetes and showing up at appointment . "
   ]
  },
  {
   "cell_type": "code",
   "execution_count": 41,
   "id": "ca841ef5",
   "metadata": {},
   "outputs": [
    {
     "data": {
      "image/png": "[encoded data removed]",
      "text/plain": [
       "<Figure size 432x288 with 1 Axes>"
      ]
     },
     "metadata": {
      "needs_background": "light"
     },
     "output_type": "display_data"
    }
   ],
   "source": [
    "sns.barplot(data=data,x='gender',y=show,hue='diabetes',palette='Blues');\n",
    "plt.title('Relation between Gender having Diabetes and showing up at appointment');\n",
    "plt.ylabel('Percentage of showing up ');"
   ]
  },
  {
   "cell_type": "markdown",
   "id": "08c4a054",
   "metadata": {},
   "source": [
    "From the graph we can conclude that the ratio of Gender that have Diabetes and showed up at appointment is more than gender that don't have Diabetes.  "
   ]
  },
  {
   "cell_type": "markdown",
   "id": "d58472b6",
   "metadata": {},
   "source": [
    "## Q9 - Relation between gender , Alcholism and showing up at the appointment"
   ]
  },
  {
   "cell_type": "markdown",
   "id": "a9c9f533",
   "metadata": {},
   "source": [
    "First we will find the count of Alcoholism . "
   ]
  },
  {
   "cell_type": "code",
   "execution_count": 44,
   "id": "7800af90",
   "metadata": {},
   "outputs": [
    {
     "data": {
      "text/plain": [
       "0    107167\n",
       "1      3360\n",
       "Name: alcoholism, dtype: int64"
      ]
     },
     "execution_count": 44,
     "metadata": {},
     "output_type": "execute_result"
    }
   ],
   "source": [
    "data['alcoholism'].value_counts()"
   ]
  },
  {
   "cell_type": "code",
   "execution_count": 43,
   "id": "4fb019d3",
   "metadata": {},
   "outputs": [
    {
     "data": {
      "image/png": "[encoded data removed]",
      "text/plain": [
       "<Figure size 432x288 with 1 Axes>"
      ]
     },
     "metadata": {},
     "output_type": "display_data"
    }
   ],
   "source": [
    "plt.pie(data['alcoholism'].value_counts(),labels=['non-alcoholic','alcoholic']);\n",
    "plt.title('Ratio of alcoholism');"
   ]
  },
  {
   "cell_type": "markdown",
   "id": "fa0576f8",
   "metadata": {},
   "source": [
    "We could see that the Alcoholism are the minority . "
   ]
  },
  {
   "cell_type": "markdown",
   "id": "a92550b1",
   "metadata": {},
   "source": [
    "Let's plot arelation between gender having alcohol and showing up at the appointment . "
   ]
  },
  {
   "cell_type": "code",
   "execution_count": 45,
   "id": "2ef3ffe9",
   "metadata": {},
   "outputs": [
    {
     "data": {
      "image/png": "[encoded data removed]",
      "text/plain": [
       "<Figure size 432x288 with 1 Axes>"
      ]
     },
     "metadata": {
      "needs_background": "light"
     },
     "output_type": "display_data"
    }
   ],
   "source": [
    "sns.barplot(data=data,x='gender',y=show,hue='alcoholism',palette='Blues');\n",
    "plt.title('Relation between gender , alcoholism and showing up ');\n",
    "plt.ylabel('The percentage of showing up ');"
   ]
  },
  {
   "cell_type": "markdown",
   "id": "0959918f",
   "metadata": {},
   "source": [
    "From the graph we deduce that : In females, the non-alcoholic show up more than the alcoholic . \n",
    "in contrast, Alcoholic Males showed up more than the non-alcholic . "
   ]
  },
  {
   "cell_type": "markdown",
   "id": "cb61c1c0",
   "metadata": {},
   "source": [
    "## Q10- What is the correlation between gender age and showing up at the appointment ? "
   ]
  },
  {
   "cell_type": "markdown",
   "id": "965d5e2d",
   "metadata": {},
   "source": [
    "We wil start by analysing Ages and try finding the minimum , maximum , mean and nan . "
   ]
  },
  {
   "cell_type": "code",
   "execution_count": 46,
   "id": "73dcc658",
   "metadata": {},
   "outputs": [
    {
     "data": {
      "text/plain": [
       "count    110527.000000\n",
       "mean         37.088874\n",
       "std          23.110205\n",
       "min          -1.000000\n",
       "25%          18.000000\n",
       "50%          37.000000\n",
       "75%          55.000000\n",
       "max         115.000000\n",
       "Name: age, dtype: float64"
      ]
     },
     "execution_count": 46,
     "metadata": {},
     "output_type": "execute_result"
    }
   ],
   "source": [
    "data['age'].describe()"
   ]
  },
  {
   "cell_type": "markdown",
   "id": "66073c6f",
   "metadata": {},
   "source": [
    "I see that the minimum ge is -1 and this doesn't make sense so iam going to filter it and drop that row . "
   ]
  },
  {
   "cell_type": "code",
   "execution_count": 47,
   "id": "7cc56fee",
   "metadata": {},
   "outputs": [
    {
     "data": {
      "text/html": [
       "<div>\n",
       "<style scoped>\n",
       "    .dataframe tbody tr th:only-of-type {\n",
       "        vertical-align: middle;\n",
       "    }\n",
       "\n",
       "    .dataframe tbody tr th {\n",
       "        vertical-align: top;\n",
       "    }\n",
       "\n",
       "    .dataframe thead th {\n",
       "        text-align: right;\n",
       "    }\n",
       "</style>\n",
       "<table border=\"1\" class=\"dataframe\">\n",
       "  <thead>\n",
       "    <tr style=\"text-align: right;\">\n",
       "      <th></th>\n",
       "      <th>patient_id</th>\n",
       "      <th>appointment_id</th>\n",
       "      <th>gender</th>\n",
       "      <th>scheduled_day</th>\n",
       "      <th>appointment_day</th>\n",
       "      <th>waiting_time</th>\n",
       "      <th>age</th>\n",
       "      <th>neighbourhood</th>\n",
       "      <th>scholarship</th>\n",
       "      <th>hypertension</th>\n",
       "      <th>diabetes</th>\n",
       "      <th>alcoholism</th>\n",
       "      <th>handicap</th>\n",
       "      <th>sms_received</th>\n",
       "      <th>show</th>\n",
       "    </tr>\n",
       "  </thead>\n",
       "  <tbody>\n",
       "    <tr>\n",
       "      <th>99832</th>\n",
       "      <td>4.659432e+14</td>\n",
       "      <td>5775010</td>\n",
       "      <td>F</td>\n",
       "      <td>2016-06-06 08:58:13+00:00</td>\n",
       "      <td>2016-06-06 23:59:59+00:00</td>\n",
       "      <td>0 days 15:01:46</td>\n",
       "      <td>-1</td>\n",
       "      <td>ROMÃO</td>\n",
       "      <td>0</td>\n",
       "      <td>0</td>\n",
       "      <td>0</td>\n",
       "      <td>0</td>\n",
       "      <td>0</td>\n",
       "      <td>0</td>\n",
       "      <td>1</td>\n",
       "    </tr>\n",
       "  </tbody>\n",
       "</table>\n",
       "</div>"
      ],
      "text/plain": [
       "         patient_id  appointment_id gender             scheduled_day  \\\n",
       "99832  4.659432e+14         5775010      F 2016-06-06 08:58:13+00:00   \n",
       "\n",
       "                appointment_day    waiting_time  age neighbourhood  \\\n",
       "99832 2016-06-06 23:59:59+00:00 0 days 15:01:46   -1         ROMÃO   \n",
       "\n",
       "       scholarship  hypertension  diabetes  alcoholism  handicap  \\\n",
       "99832            0             0         0           0         0   \n",
       "\n",
       "       sms_received  show  \n",
       "99832             0     1  "
      ]
     },
     "execution_count": 47,
     "metadata": {},
     "output_type": "execute_result"
    }
   ],
   "source": [
    "data.query('age == -1 ')"
   ]
  },
  {
   "cell_type": "code",
   "execution_count": 48,
   "id": "0e11ab19",
   "metadata": {},
   "outputs": [],
   "source": [
    "data.drop(data.index[99832],inplace=True)"
   ]
  },
  {
   "cell_type": "markdown",
   "id": "b61d7710",
   "metadata": {},
   "source": [
    "I removed the -1 age row it was a female "
   ]
  },
  {
   "cell_type": "code",
   "execution_count": 49,
   "id": "77f2d29c",
   "metadata": {},
   "outputs": [
    {
     "data": {
      "text/html": [
       "<div>\n",
       "<style scoped>\n",
       "    .dataframe tbody tr th:only-of-type {\n",
       "        vertical-align: middle;\n",
       "    }\n",
       "\n",
       "    .dataframe tbody tr th {\n",
       "        vertical-align: top;\n",
       "    }\n",
       "\n",
       "    .dataframe thead th {\n",
       "        text-align: right;\n",
       "    }\n",
       "</style>\n",
       "<table border=\"1\" class=\"dataframe\">\n",
       "  <thead>\n",
       "    <tr style=\"text-align: right;\">\n",
       "      <th></th>\n",
       "      <th>patient_id</th>\n",
       "      <th>appointment_id</th>\n",
       "      <th>waiting_time</th>\n",
       "      <th>age</th>\n",
       "      <th>scholarship</th>\n",
       "      <th>hypertension</th>\n",
       "      <th>diabetes</th>\n",
       "      <th>alcoholism</th>\n",
       "      <th>handicap</th>\n",
       "      <th>sms_received</th>\n",
       "      <th>show</th>\n",
       "    </tr>\n",
       "  </thead>\n",
       "  <tbody>\n",
       "    <tr>\n",
       "      <th>count</th>\n",
       "      <td>1.105260e+05</td>\n",
       "      <td>1.105260e+05</td>\n",
       "      <td>110526</td>\n",
       "      <td>110526.000000</td>\n",
       "      <td>110526.000000</td>\n",
       "      <td>110526.000000</td>\n",
       "      <td>110526.000000</td>\n",
       "      <td>110526.000000</td>\n",
       "      <td>110526.000000</td>\n",
       "      <td>110526.000000</td>\n",
       "      <td>110526.000000</td>\n",
       "    </tr>\n",
       "    <tr>\n",
       "      <th>mean</th>\n",
       "      <td>1.474934e+14</td>\n",
       "      <td>5.675304e+06</td>\n",
       "      <td>10 days 17:08:41.047952517</td>\n",
       "      <td>37.089219</td>\n",
       "      <td>0.098266</td>\n",
       "      <td>0.197248</td>\n",
       "      <td>0.071865</td>\n",
       "      <td>0.030400</td>\n",
       "      <td>0.020276</td>\n",
       "      <td>0.321029</td>\n",
       "      <td>0.798066</td>\n",
       "    </tr>\n",
       "    <tr>\n",
       "      <th>std</th>\n",
       "      <td>2.560943e+14</td>\n",
       "      <td>7.129544e+04</td>\n",
       "      <td>15 days 05:51:31.240428096</td>\n",
       "      <td>23.110026</td>\n",
       "      <td>0.297676</td>\n",
       "      <td>0.397923</td>\n",
       "      <td>0.258266</td>\n",
       "      <td>0.171686</td>\n",
       "      <td>0.140943</td>\n",
       "      <td>0.466874</td>\n",
       "      <td>0.401445</td>\n",
       "    </tr>\n",
       "    <tr>\n",
       "      <th>min</th>\n",
       "      <td>3.921784e+04</td>\n",
       "      <td>5.030230e+06</td>\n",
       "      <td>-6 days +10:10:39</td>\n",
       "      <td>0.000000</td>\n",
       "      <td>0.000000</td>\n",
       "      <td>0.000000</td>\n",
       "      <td>0.000000</td>\n",
       "      <td>0.000000</td>\n",
       "      <td>0.000000</td>\n",
       "      <td>0.000000</td>\n",
       "      <td>0.000000</td>\n",
       "    </tr>\n",
       "    <tr>\n",
       "      <th>25%</th>\n",
       "      <td>4.172536e+12</td>\n",
       "      <td>5.640285e+06</td>\n",
       "      <td>0 days 15:41:31</td>\n",
       "      <td>18.000000</td>\n",
       "      <td>0.000000</td>\n",
       "      <td>0.000000</td>\n",
       "      <td>0.000000</td>\n",
       "      <td>0.000000</td>\n",
       "      <td>0.000000</td>\n",
       "      <td>0.000000</td>\n",
       "      <td>1.000000</td>\n",
       "    </tr>\n",
       "    <tr>\n",
       "      <th>50%</th>\n",
       "      <td>3.173184e+13</td>\n",
       "      <td>5.680572e+06</td>\n",
       "      <td>4 days 11:22:32</td>\n",
       "      <td>37.000000</td>\n",
       "      <td>0.000000</td>\n",
       "      <td>0.000000</td>\n",
       "      <td>0.000000</td>\n",
       "      <td>0.000000</td>\n",
       "      <td>0.000000</td>\n",
       "      <td>0.000000</td>\n",
       "      <td>1.000000</td>\n",
       "    </tr>\n",
       "    <tr>\n",
       "      <th>75%</th>\n",
       "      <td>9.438963e+13</td>\n",
       "      <td>5.725523e+06</td>\n",
       "      <td>15 days 07:41:36.750000</td>\n",
       "      <td>55.000000</td>\n",
       "      <td>0.000000</td>\n",
       "      <td>0.000000</td>\n",
       "      <td>0.000000</td>\n",
       "      <td>0.000000</td>\n",
       "      <td>0.000000</td>\n",
       "      <td>1.000000</td>\n",
       "      <td>1.000000</td>\n",
       "    </tr>\n",
       "    <tr>\n",
       "      <th>max</th>\n",
       "      <td>9.999816e+14</td>\n",
       "      <td>5.790484e+06</td>\n",
       "      <td>179 days 13:19:00</td>\n",
       "      <td>115.000000</td>\n",
       "      <td>1.000000</td>\n",
       "      <td>1.000000</td>\n",
       "      <td>1.000000</td>\n",
       "      <td>1.000000</td>\n",
       "      <td>1.000000</td>\n",
       "      <td>1.000000</td>\n",
       "      <td>1.000000</td>\n",
       "    </tr>\n",
       "  </tbody>\n",
       "</table>\n",
       "</div>"
      ],
      "text/plain": [
       "         patient_id  appointment_id                waiting_time  \\\n",
       "count  1.105260e+05    1.105260e+05                      110526   \n",
       "mean   1.474934e+14    5.675304e+06  10 days 17:08:41.047952517   \n",
       "std    2.560943e+14    7.129544e+04  15 days 05:51:31.240428096   \n",
       "min    3.921784e+04    5.030230e+06           -6 days +10:10:39   \n",
       "25%    4.172536e+12    5.640285e+06             0 days 15:41:31   \n",
       "50%    3.173184e+13    5.680572e+06             4 days 11:22:32   \n",
       "75%    9.438963e+13    5.725523e+06     15 days 07:41:36.750000   \n",
       "max    9.999816e+14    5.790484e+06           179 days 13:19:00   \n",
       "\n",
       "                 age    scholarship   hypertension       diabetes  \\\n",
       "count  110526.000000  110526.000000  110526.000000  110526.000000   \n",
       "mean       37.089219       0.098266       0.197248       0.071865   \n",
       "std        23.110026       0.297676       0.397923       0.258266   \n",
       "min         0.000000       0.000000       0.000000       0.000000   \n",
       "25%        18.000000       0.000000       0.000000       0.000000   \n",
       "50%        37.000000       0.000000       0.000000       0.000000   \n",
       "75%        55.000000       0.000000       0.000000       0.000000   \n",
       "max       115.000000       1.000000       1.000000       1.000000   \n",
       "\n",
       "          alcoholism       handicap   sms_received           show  \n",
       "count  110526.000000  110526.000000  110526.000000  110526.000000  \n",
       "mean        0.030400       0.020276       0.321029       0.798066  \n",
       "std         0.171686       0.140943       0.466874       0.401445  \n",
       "min         0.000000       0.000000       0.000000       0.000000  \n",
       "25%         0.000000       0.000000       0.000000       1.000000  \n",
       "50%         0.000000       0.000000       0.000000       1.000000  \n",
       "75%         0.000000       0.000000       1.000000       1.000000  \n",
       "max         1.000000       1.000000       1.000000       1.000000  "
      ]
     },
     "execution_count": 49,
     "metadata": {},
     "output_type": "execute_result"
    }
   ],
   "source": [
    "data.describe()"
   ]
  },
  {
   "cell_type": "markdown",
   "id": "4a9c52c5",
   "metadata": {},
   "source": [
    "the minimum value of age still doesn't make any sense it's 0  . so i will look at it and do the suitable modification ."
   ]
  },
  {
   "cell_type": "code",
   "execution_count": 50,
   "id": "fbf3ff02",
   "metadata": {},
   "outputs": [
    {
     "data": {
      "text/html": [
       "<div>\n",
       "<style scoped>\n",
       "    .dataframe tbody tr th:only-of-type {\n",
       "        vertical-align: middle;\n",
       "    }\n",
       "\n",
       "    .dataframe tbody tr th {\n",
       "        vertical-align: top;\n",
       "    }\n",
       "\n",
       "    .dataframe thead th {\n",
       "        text-align: right;\n",
       "    }\n",
       "</style>\n",
       "<table border=\"1\" class=\"dataframe\">\n",
       "  <thead>\n",
       "    <tr style=\"text-align: right;\">\n",
       "      <th></th>\n",
       "      <th>patient_id</th>\n",
       "      <th>appointment_id</th>\n",
       "      <th>gender</th>\n",
       "      <th>scheduled_day</th>\n",
       "      <th>appointment_day</th>\n",
       "      <th>waiting_time</th>\n",
       "      <th>age</th>\n",
       "      <th>neighbourhood</th>\n",
       "      <th>scholarship</th>\n",
       "      <th>hypertension</th>\n",
       "      <th>diabetes</th>\n",
       "      <th>alcoholism</th>\n",
       "      <th>handicap</th>\n",
       "      <th>sms_received</th>\n",
       "      <th>show</th>\n",
       "    </tr>\n",
       "  </thead>\n",
       "  <tbody>\n",
       "    <tr>\n",
       "      <th>59</th>\n",
       "      <td>7.184428e+13</td>\n",
       "      <td>5638545</td>\n",
       "      <td>F</td>\n",
       "      <td>2016-04-29 08:08:43+00:00</td>\n",
       "      <td>2016-04-29 23:59:59+00:00</td>\n",
       "      <td>0 days 15:51:16</td>\n",
       "      <td>0</td>\n",
       "      <td>CONQUISTA</td>\n",
       "      <td>0</td>\n",
       "      <td>0</td>\n",
       "      <td>0</td>\n",
       "      <td>0</td>\n",
       "      <td>0</td>\n",
       "      <td>0</td>\n",
       "      <td>1</td>\n",
       "    </tr>\n",
       "    <tr>\n",
       "      <th>63</th>\n",
       "      <td>2.366233e+14</td>\n",
       "      <td>5628286</td>\n",
       "      <td>M</td>\n",
       "      <td>2016-04-27 10:46:12+00:00</td>\n",
       "      <td>2016-04-29 23:59:59+00:00</td>\n",
       "      <td>2 days 13:13:47</td>\n",
       "      <td>0</td>\n",
       "      <td>SÃO BENEDITO</td>\n",
       "      <td>0</td>\n",
       "      <td>0</td>\n",
       "      <td>0</td>\n",
       "      <td>0</td>\n",
       "      <td>0</td>\n",
       "      <td>0</td>\n",
       "      <td>1</td>\n",
       "    </tr>\n",
       "    <tr>\n",
       "      <th>64</th>\n",
       "      <td>1.885174e+14</td>\n",
       "      <td>5616082</td>\n",
       "      <td>M</td>\n",
       "      <td>2016-04-25 13:28:21+00:00</td>\n",
       "      <td>2016-04-29 23:59:59+00:00</td>\n",
       "      <td>4 days 10:31:38</td>\n",
       "      <td>0</td>\n",
       "      <td>ILHA DAS CAIEIRAS</td>\n",
       "      <td>0</td>\n",
       "      <td>0</td>\n",
       "      <td>0</td>\n",
       "      <td>0</td>\n",
       "      <td>0</td>\n",
       "      <td>1</td>\n",
       "      <td>1</td>\n",
       "    </tr>\n",
       "    <tr>\n",
       "      <th>65</th>\n",
       "      <td>2.718818e+14</td>\n",
       "      <td>5628321</td>\n",
       "      <td>M</td>\n",
       "      <td>2016-04-27 10:48:50+00:00</td>\n",
       "      <td>2016-04-29 23:59:59+00:00</td>\n",
       "      <td>2 days 13:11:09</td>\n",
       "      <td>0</td>\n",
       "      <td>CONQUISTA</td>\n",
       "      <td>0</td>\n",
       "      <td>0</td>\n",
       "      <td>0</td>\n",
       "      <td>0</td>\n",
       "      <td>0</td>\n",
       "      <td>0</td>\n",
       "      <td>1</td>\n",
       "    </tr>\n",
       "    <tr>\n",
       "      <th>67</th>\n",
       "      <td>8.647128e+13</td>\n",
       "      <td>5639264</td>\n",
       "      <td>F</td>\n",
       "      <td>2016-04-29 08:53:02+00:00</td>\n",
       "      <td>2016-04-29 23:59:59+00:00</td>\n",
       "      <td>0 days 15:06:57</td>\n",
       "      <td>0</td>\n",
       "      <td>NOVA PALESTINA</td>\n",
       "      <td>0</td>\n",
       "      <td>0</td>\n",
       "      <td>0</td>\n",
       "      <td>0</td>\n",
       "      <td>0</td>\n",
       "      <td>0</td>\n",
       "      <td>1</td>\n",
       "    </tr>\n",
       "    <tr>\n",
       "      <th>...</th>\n",
       "      <td>...</td>\n",
       "      <td>...</td>\n",
       "      <td>...</td>\n",
       "      <td>...</td>\n",
       "      <td>...</td>\n",
       "      <td>...</td>\n",
       "      <td>...</td>\n",
       "      <td>...</td>\n",
       "      <td>...</td>\n",
       "      <td>...</td>\n",
       "      <td>...</td>\n",
       "      <td>...</td>\n",
       "      <td>...</td>\n",
       "      <td>...</td>\n",
       "      <td>...</td>\n",
       "    </tr>\n",
       "    <tr>\n",
       "      <th>110345</th>\n",
       "      <td>1.473952e+14</td>\n",
       "      <td>5702537</td>\n",
       "      <td>F</td>\n",
       "      <td>2016-05-16 12:30:58+00:00</td>\n",
       "      <td>2016-06-01 23:59:59+00:00</td>\n",
       "      <td>16 days 11:29:01</td>\n",
       "      <td>0</td>\n",
       "      <td>RESISTÊNCIA</td>\n",
       "      <td>0</td>\n",
       "      <td>0</td>\n",
       "      <td>0</td>\n",
       "      <td>0</td>\n",
       "      <td>0</td>\n",
       "      <td>0</td>\n",
       "      <td>1</td>\n",
       "    </tr>\n",
       "    <tr>\n",
       "      <th>110346</th>\n",
       "      <td>5.577525e+12</td>\n",
       "      <td>5777724</td>\n",
       "      <td>M</td>\n",
       "      <td>2016-06-06 14:22:34+00:00</td>\n",
       "      <td>2016-06-08 23:59:59+00:00</td>\n",
       "      <td>2 days 09:37:25</td>\n",
       "      <td>0</td>\n",
       "      <td>RESISTÊNCIA</td>\n",
       "      <td>0</td>\n",
       "      <td>0</td>\n",
       "      <td>0</td>\n",
       "      <td>0</td>\n",
       "      <td>0</td>\n",
       "      <td>0</td>\n",
       "      <td>1</td>\n",
       "    </tr>\n",
       "    <tr>\n",
       "      <th>110454</th>\n",
       "      <td>6.142460e+11</td>\n",
       "      <td>5772400</td>\n",
       "      <td>F</td>\n",
       "      <td>2016-06-03 15:18:44+00:00</td>\n",
       "      <td>2016-06-03 23:59:59+00:00</td>\n",
       "      <td>0 days 08:41:15</td>\n",
       "      <td>0</td>\n",
       "      <td>RESISTÊNCIA</td>\n",
       "      <td>0</td>\n",
       "      <td>0</td>\n",
       "      <td>0</td>\n",
       "      <td>0</td>\n",
       "      <td>0</td>\n",
       "      <td>0</td>\n",
       "      <td>1</td>\n",
       "    </tr>\n",
       "    <tr>\n",
       "      <th>110460</th>\n",
       "      <td>4.321846e+13</td>\n",
       "      <td>5769545</td>\n",
       "      <td>F</td>\n",
       "      <td>2016-06-03 08:56:51+00:00</td>\n",
       "      <td>2016-06-03 23:59:59+00:00</td>\n",
       "      <td>0 days 15:03:08</td>\n",
       "      <td>0</td>\n",
       "      <td>RESISTÊNCIA</td>\n",
       "      <td>0</td>\n",
       "      <td>0</td>\n",
       "      <td>0</td>\n",
       "      <td>0</td>\n",
       "      <td>0</td>\n",
       "      <td>0</td>\n",
       "      <td>1</td>\n",
       "    </tr>\n",
       "    <tr>\n",
       "      <th>110507</th>\n",
       "      <td>4.769462e+14</td>\n",
       "      <td>5786918</td>\n",
       "      <td>F</td>\n",
       "      <td>2016-06-08 09:04:18+00:00</td>\n",
       "      <td>2016-06-08 23:59:59+00:00</td>\n",
       "      <td>0 days 14:55:41</td>\n",
       "      <td>0</td>\n",
       "      <td>MARIA ORTIZ</td>\n",
       "      <td>0</td>\n",
       "      <td>0</td>\n",
       "      <td>0</td>\n",
       "      <td>0</td>\n",
       "      <td>0</td>\n",
       "      <td>0</td>\n",
       "      <td>1</td>\n",
       "    </tr>\n",
       "  </tbody>\n",
       "</table>\n",
       "<p>3539 rows × 15 columns</p>\n",
       "</div>"
      ],
      "text/plain": [
       "          patient_id  appointment_id gender             scheduled_day  \\\n",
       "59      7.184428e+13         5638545      F 2016-04-29 08:08:43+00:00   \n",
       "63      2.366233e+14         5628286      M 2016-04-27 10:46:12+00:00   \n",
       "64      1.885174e+14         5616082      M 2016-04-25 13:28:21+00:00   \n",
       "65      2.718818e+14         5628321      M 2016-04-27 10:48:50+00:00   \n",
       "67      8.647128e+13         5639264      F 2016-04-29 08:53:02+00:00   \n",
       "...              ...             ...    ...                       ...   \n",
       "110345  1.473952e+14         5702537      F 2016-05-16 12:30:58+00:00   \n",
       "110346  5.577525e+12         5777724      M 2016-06-06 14:22:34+00:00   \n",
       "110454  6.142460e+11         5772400      F 2016-06-03 15:18:44+00:00   \n",
       "110460  4.321846e+13         5769545      F 2016-06-03 08:56:51+00:00   \n",
       "110507  4.769462e+14         5786918      F 2016-06-08 09:04:18+00:00   \n",
       "\n",
       "                 appointment_day     waiting_time  age      neighbourhood  \\\n",
       "59     2016-04-29 23:59:59+00:00  0 days 15:51:16    0          CONQUISTA   \n",
       "63     2016-04-29 23:59:59+00:00  2 days 13:13:47    0       SÃO BENEDITO   \n",
       "64     2016-04-29 23:59:59+00:00  4 days 10:31:38    0  ILHA DAS CAIEIRAS   \n",
       "65     2016-04-29 23:59:59+00:00  2 days 13:11:09    0          CONQUISTA   \n",
       "67     2016-04-29 23:59:59+00:00  0 days 15:06:57    0     NOVA PALESTINA   \n",
       "...                          ...              ...  ...                ...   \n",
       "110345 2016-06-01 23:59:59+00:00 16 days 11:29:01    0        RESISTÊNCIA   \n",
       "110346 2016-06-08 23:59:59+00:00  2 days 09:37:25    0        RESISTÊNCIA   \n",
       "110454 2016-06-03 23:59:59+00:00  0 days 08:41:15    0        RESISTÊNCIA   \n",
       "110460 2016-06-03 23:59:59+00:00  0 days 15:03:08    0        RESISTÊNCIA   \n",
       "110507 2016-06-08 23:59:59+00:00  0 days 14:55:41    0        MARIA ORTIZ   \n",
       "\n",
       "        scholarship  hypertension  diabetes  alcoholism  handicap  \\\n",
       "59                0             0         0           0         0   \n",
       "63                0             0         0           0         0   \n",
       "64                0             0         0           0         0   \n",
       "65                0             0         0           0         0   \n",
       "67                0             0         0           0         0   \n",
       "...             ...           ...       ...         ...       ...   \n",
       "110345            0             0         0           0         0   \n",
       "110346            0             0         0           0         0   \n",
       "110454            0             0         0           0         0   \n",
       "110460            0             0         0           0         0   \n",
       "110507            0             0         0           0         0   \n",
       "\n",
       "        sms_received  show  \n",
       "59                 0     1  \n",
       "63                 0     1  \n",
       "64                 1     1  \n",
       "65                 0     1  \n",
       "67                 0     1  \n",
       "...              ...   ...  \n",
       "110345             0     1  \n",
       "110346             0     1  \n",
       "110454             0     1  \n",
       "110460             0     1  \n",
       "110507             0     1  \n",
       "\n",
       "[3539 rows x 15 columns]"
      ]
     },
     "execution_count": 50,
     "metadata": {},
     "output_type": "execute_result"
    }
   ],
   "source": [
    "data.query('age==0')"
   ]
  },
  {
   "cell_type": "markdown",
   "id": "242740a7",
   "metadata": {},
   "source": [
    "It seems that we have 3539 rows with zero age , so i will change the value to Nan . "
   ]
  },
  {
   "cell_type": "code",
   "execution_count": 51,
   "id": "bbd496fd",
   "metadata": {},
   "outputs": [],
   "source": [
    "data['age'].replace(0,np.nan,inplace=True)"
   ]
  },
  {
   "cell_type": "code",
   "execution_count": 52,
   "id": "7d6e20e6",
   "metadata": {},
   "outputs": [
    {
     "data": {
      "text/plain": [
       "count    106987.000000\n",
       "mean         38.316085\n",
       "std          22.466214\n",
       "min           1.000000\n",
       "25%          19.000000\n",
       "50%          38.000000\n",
       "75%          56.000000\n",
       "max         115.000000\n",
       "Name: age, dtype: float64"
      ]
     },
     "execution_count": 52,
     "metadata": {},
     "output_type": "execute_result"
    }
   ],
   "source": [
    "data['age'].describe()"
   ]
  },
  {
   "cell_type": "markdown",
   "id": "4272cdff",
   "metadata": {},
   "source": [
    "Now the minimum value of age is 1 this make more sense . "
   ]
  },
  {
   "cell_type": "markdown",
   "id": "761d3ca5",
   "metadata": {},
   "source": [
    "I'm going to plot a Boxplot to show the distribution of the age . "
   ]
  },
  {
   "cell_type": "code",
   "execution_count": 54,
   "id": "5e8425ab",
   "metadata": {},
   "outputs": [
    {
     "data": {
      "image/png": "[encoded data removed]",
      "text/plain": [
       "<Figure size 432x288 with 1 Axes>"
      ]
     },
     "metadata": {},
     "output_type": "display_data"
    }
   ],
   "source": [
    "sns.boxplot(data=data,x='age',palette='Blues');\n",
    "plt.title('Distribution of Age');"
   ]
  },
  {
   "cell_type": "markdown",
   "id": "0f6f4c2b",
   "metadata": {},
   "source": [
    "The outliers in the above graph is the value of five people of age 115 years old  . "
   ]
  },
  {
   "cell_type": "code",
   "execution_count": 55,
   "id": "57706b65",
   "metadata": {},
   "outputs": [
    {
     "data": {
      "text/html": [
       "<div>\n",
       "<style scoped>\n",
       "    .dataframe tbody tr th:only-of-type {\n",
       "        vertical-align: middle;\n",
       "    }\n",
       "\n",
       "    .dataframe tbody tr th {\n",
       "        vertical-align: top;\n",
       "    }\n",
       "\n",
       "    .dataframe thead th {\n",
       "        text-align: right;\n",
       "    }\n",
       "</style>\n",
       "<table border=\"1\" class=\"dataframe\">\n",
       "  <thead>\n",
       "    <tr style=\"text-align: right;\">\n",
       "      <th></th>\n",
       "      <th>patient_id</th>\n",
       "      <th>appointment_id</th>\n",
       "      <th>gender</th>\n",
       "      <th>scheduled_day</th>\n",
       "      <th>appointment_day</th>\n",
       "      <th>waiting_time</th>\n",
       "      <th>age</th>\n",
       "      <th>neighbourhood</th>\n",
       "      <th>scholarship</th>\n",
       "      <th>hypertension</th>\n",
       "      <th>diabetes</th>\n",
       "      <th>alcoholism</th>\n",
       "      <th>handicap</th>\n",
       "      <th>sms_received</th>\n",
       "      <th>show</th>\n",
       "    </tr>\n",
       "  </thead>\n",
       "  <tbody>\n",
       "    <tr>\n",
       "      <th>63912</th>\n",
       "      <td>3.196321e+13</td>\n",
       "      <td>5700278</td>\n",
       "      <td>F</td>\n",
       "      <td>2016-05-16 09:17:44+00:00</td>\n",
       "      <td>2016-05-19 23:59:59+00:00</td>\n",
       "      <td>3 days 14:42:15</td>\n",
       "      <td>115.0</td>\n",
       "      <td>ANDORINHAS</td>\n",
       "      <td>0</td>\n",
       "      <td>0</td>\n",
       "      <td>0</td>\n",
       "      <td>0</td>\n",
       "      <td>1</td>\n",
       "      <td>0</td>\n",
       "      <td>0</td>\n",
       "    </tr>\n",
       "    <tr>\n",
       "      <th>63915</th>\n",
       "      <td>3.196321e+13</td>\n",
       "      <td>5700279</td>\n",
       "      <td>F</td>\n",
       "      <td>2016-05-16 09:17:44+00:00</td>\n",
       "      <td>2016-05-19 23:59:59+00:00</td>\n",
       "      <td>3 days 14:42:15</td>\n",
       "      <td>115.0</td>\n",
       "      <td>ANDORINHAS</td>\n",
       "      <td>0</td>\n",
       "      <td>0</td>\n",
       "      <td>0</td>\n",
       "      <td>0</td>\n",
       "      <td>1</td>\n",
       "      <td>0</td>\n",
       "      <td>0</td>\n",
       "    </tr>\n",
       "    <tr>\n",
       "      <th>68127</th>\n",
       "      <td>3.196321e+13</td>\n",
       "      <td>5562812</td>\n",
       "      <td>F</td>\n",
       "      <td>2016-04-08 14:29:17+00:00</td>\n",
       "      <td>2016-05-16 23:59:59+00:00</td>\n",
       "      <td>38 days 09:30:42</td>\n",
       "      <td>115.0</td>\n",
       "      <td>ANDORINHAS</td>\n",
       "      <td>0</td>\n",
       "      <td>0</td>\n",
       "      <td>0</td>\n",
       "      <td>0</td>\n",
       "      <td>1</td>\n",
       "      <td>0</td>\n",
       "      <td>0</td>\n",
       "    </tr>\n",
       "    <tr>\n",
       "      <th>76284</th>\n",
       "      <td>3.196321e+13</td>\n",
       "      <td>5744037</td>\n",
       "      <td>F</td>\n",
       "      <td>2016-05-30 09:44:51+00:00</td>\n",
       "      <td>2016-05-30 23:59:59+00:00</td>\n",
       "      <td>0 days 14:15:08</td>\n",
       "      <td>115.0</td>\n",
       "      <td>ANDORINHAS</td>\n",
       "      <td>0</td>\n",
       "      <td>0</td>\n",
       "      <td>0</td>\n",
       "      <td>0</td>\n",
       "      <td>1</td>\n",
       "      <td>0</td>\n",
       "      <td>1</td>\n",
       "    </tr>\n",
       "    <tr>\n",
       "      <th>97666</th>\n",
       "      <td>7.482346e+14</td>\n",
       "      <td>5717451</td>\n",
       "      <td>F</td>\n",
       "      <td>2016-05-19 07:57:56+00:00</td>\n",
       "      <td>2016-06-03 23:59:59+00:00</td>\n",
       "      <td>15 days 16:02:03</td>\n",
       "      <td>115.0</td>\n",
       "      <td>SÃO JOSÉ</td>\n",
       "      <td>0</td>\n",
       "      <td>1</td>\n",
       "      <td>0</td>\n",
       "      <td>0</td>\n",
       "      <td>0</td>\n",
       "      <td>1</td>\n",
       "      <td>1</td>\n",
       "    </tr>\n",
       "  </tbody>\n",
       "</table>\n",
       "</div>"
      ],
      "text/plain": [
       "         patient_id  appointment_id gender             scheduled_day  \\\n",
       "63912  3.196321e+13         5700278      F 2016-05-16 09:17:44+00:00   \n",
       "63915  3.196321e+13         5700279      F 2016-05-16 09:17:44+00:00   \n",
       "68127  3.196321e+13         5562812      F 2016-04-08 14:29:17+00:00   \n",
       "76284  3.196321e+13         5744037      F 2016-05-30 09:44:51+00:00   \n",
       "97666  7.482346e+14         5717451      F 2016-05-19 07:57:56+00:00   \n",
       "\n",
       "                appointment_day     waiting_time    age neighbourhood  \\\n",
       "63912 2016-05-19 23:59:59+00:00  3 days 14:42:15  115.0    ANDORINHAS   \n",
       "63915 2016-05-19 23:59:59+00:00  3 days 14:42:15  115.0    ANDORINHAS   \n",
       "68127 2016-05-16 23:59:59+00:00 38 days 09:30:42  115.0    ANDORINHAS   \n",
       "76284 2016-05-30 23:59:59+00:00  0 days 14:15:08  115.0    ANDORINHAS   \n",
       "97666 2016-06-03 23:59:59+00:00 15 days 16:02:03  115.0      SÃO JOSÉ   \n",
       "\n",
       "       scholarship  hypertension  diabetes  alcoholism  handicap  \\\n",
       "63912            0             0         0           0         1   \n",
       "63915            0             0         0           0         1   \n",
       "68127            0             0         0           0         1   \n",
       "76284            0             0         0           0         1   \n",
       "97666            0             1         0           0         0   \n",
       "\n",
       "       sms_received  show  \n",
       "63912             0     0  \n",
       "63915             0     0  \n",
       "68127             0     0  \n",
       "76284             0     1  \n",
       "97666             1     1  "
      ]
     },
     "execution_count": 55,
     "metadata": {},
     "output_type": "execute_result"
    }
   ],
   "source": [
    "data.query('age==115')"
   ]
  },
  {
   "cell_type": "markdown",
   "id": "c84af2bf",
   "metadata": {},
   "source": [
    "Now let's find the relation between age and showing up at appointment. "
   ]
  },
  {
   "cell_type": "markdown",
   "id": "10474d02",
   "metadata": {},
   "source": [
    "We will use pandas.cut method to convert Age into groups of age ranges ."
   ]
  },
  {
   "cell_type": "code",
   "execution_count": 58,
   "id": "39f31e98",
   "metadata": {},
   "outputs": [],
   "source": [
    "bins= [1,18,40,115]\n",
    "labels=['1-17','18-39','40-115']\n",
    "data['age_range']=pd.cut(data['age'],bins,labels=labels,include_lowest=True)"
   ]
  },
  {
   "cell_type": "code",
   "execution_count": 59,
   "id": "12a67fbc",
   "metadata": {},
   "outputs": [
    {
     "data": {
      "image/png": "[encoded data removed]",
      "text/plain": [
       "<Figure size 432x288 with 1 Axes>"
      ]
     },
     "metadata": {},
     "output_type": "display_data"
    }
   ],
   "source": [
    "sns.countplot(data=data,x='age_range',hue='show',palette='Blues');\n",
    "plt.title('Relation between Ages and showing up at the appointment');\n",
    "plt.ylabel('Number of show up ');"
   ]
  },
  {
   "cell_type": "markdown",
   "id": "e40043f4",
   "metadata": {},
   "source": [
    "We concluded that there is a positive correlation between age and showing up at the appointment , where when patient gets older the propability of showing up increases . "
   ]
  },
  {
   "cell_type": "markdown",
   "id": "5d16f33b",
   "metadata": {},
   "source": [
    "The relation between gender age and showing up at the appointment is discussed in the following graph . "
   ]
  },
  {
   "cell_type": "code",
   "execution_count": 60,
   "id": "316413aa",
   "metadata": {},
   "outputs": [
    {
     "data": {
      "image/png": "[encoded data removed]",
      "text/plain": [
       "<Figure size 432x288 with 1 Axes>"
      ]
     },
     "metadata": {},
     "output_type": "display_data"
    }
   ],
   "source": [
    "sns.barplot(data=data,x='gender',y=show,hue='age_range');\n",
    "plt.title('Relation between gender age and showing up at the appointment');\n",
    "plt.ylabel('The percentage of showing up in %');\n",
    "figsize=(20,20)"
   ]
  },
  {
   "cell_type": "markdown",
   "id": "2ab054d7",
   "metadata": {},
   "source": [
    "From the above graph we can conclude that : \n",
    "1- In Females, age range [1:17] seem to attend appointment slightly more than age range [18:39] . while the great propability of showing up appears in age range [40:115] . \n",
    "2- In Males, age range [1:17] and [18:39] have nearly equal propability of showing up at the appointment , while age range [40:115] have the highest propability of showing up ."
   ]
  },
  {
   "cell_type": "markdown",
   "id": "a1e5f705",
   "metadata": {},
   "source": [
    "## Q11- What is the relation between receiving SMS and showing up at appointment ? "
   ]
  },
  {
   "cell_type": "code",
   "execution_count": 61,
   "id": "23b611ef",
   "metadata": {},
   "outputs": [
    {
     "data": {
      "text/plain": [
       "0    75044\n",
       "1    35482\n",
       "Name: sms_received, dtype: int64"
      ]
     },
     "execution_count": 61,
     "metadata": {},
     "output_type": "execute_result"
    }
   ],
   "source": [
    "data['sms_received'].value_counts()"
   ]
  },
  {
   "cell_type": "markdown",
   "id": "cde42c44",
   "metadata": {},
   "source": [
    "We could see from the above code that people who had received sms is less than who didn't receive sms . "
   ]
  },
  {
   "cell_type": "markdown",
   "id": "7c6e407d",
   "metadata": {},
   "source": [
    "so let's plot agraph to find arelation between sms and show up ."
   ]
  },
  {
   "cell_type": "code",
   "execution_count": 64,
   "id": "5a6994ac",
   "metadata": {},
   "outputs": [
    {
     "data": {
      "image/png": "[encoded data removed]",
      "text/plain": [
       "<Figure size 432x288 with 1 Axes>"
      ]
     },
     "metadata": {},
     "output_type": "display_data"
    }
   ],
   "source": [
    "sns.countplot(data=data,x='sms_received',hue='show',palette='Blues');\n",
    "plt.title('Relation between Sms_received and showing up at the appointment');"
   ]
  },
  {
   "cell_type": "markdown",
   "id": "d733fc1d",
   "metadata": {},
   "source": [
    "We could see that in both cases the number of people that showed up is more than who didn't show . "
   ]
  },
  {
   "cell_type": "markdown",
   "id": "9dc28e66",
   "metadata": {},
   "source": [
    "so we need to add gender to the relation to make it more specific . "
   ]
  },
  {
   "cell_type": "code",
   "execution_count": 65,
   "id": "0149cbd7",
   "metadata": {},
   "outputs": [
    {
     "data": {
      "image/png": "[encoded data removed]",
      "text/plain": [
       "<Figure size 432x288 with 1 Axes>"
      ]
     },
     "metadata": {},
     "output_type": "display_data"
    }
   ],
   "source": [
    "sns.barplot(data=data,x='gender',y=show,hue='sms_received',palette='Blues');\n",
    "plt.title('Relation between Gender received SMS and showing up');\n",
    "plt.ylabel('Percentage of showing up ');"
   ]
  },
  {
   "cell_type": "markdown",
   "id": "5dd82000",
   "metadata": {},
   "source": [
    "from the graph we concluded that people that showed up at appointment without receiving sms is more than people who received sms. So,there is no relation between having SMS and showing up at the appointment."
   ]
  },
  {
   "cell_type": "markdown",
   "id": "bbc459c7",
   "metadata": {},
   "source": [
    "# Conclusion"
   ]
  },
  {
   "cell_type": "markdown",
   "id": "0b215555",
   "metadata": {},
   "source": [
    "- There is anegative correlation between having scholarship and attending the appointment"
   ]
  },
  {
   "cell_type": "markdown",
   "id": "ce205942",
   "metadata": {},
   "source": [
    "- There is apositive correlation between having handicap and showing up at the appointment . "
   ]
  },
  {
   "cell_type": "markdown",
   "id": "aeae113e",
   "metadata": {},
   "source": [
    "- There is a positive correlation between Hypertension and showing up at the appointment . "
   ]
  },
  {
   "cell_type": "markdown",
   "id": "95c3b5e0",
   "metadata": {},
   "source": [
    "- There is also a positive correlation between having diabetes and showing up at the appointment . so , we can conclude that having disease increase the probability of showing up . "
   ]
  },
  {
   "cell_type": "markdown",
   "id": "beae592b",
   "metadata": {},
   "source": [
    "- A strong positive correlation between Age and showing up , where old age has a high probability of showing up than youngs .  "
   ]
  },
  {
   "cell_type": "markdown",
   "id": "0883f6e2",
   "metadata": {},
   "source": [
    "- Negative correlation had been found between SMS-received and showing up at the appointment . "
   ]
  },
  {
   "cell_type": "markdown",
   "id": "6d15aeee",
   "metadata": {},
   "source": [
    "### Limitations"
   ]
  },
  {
   "cell_type": "markdown",
   "id": "ad76dd20",
   "metadata": {},
   "source": [
    "- Most Data are categorical which don't allow high level of statistics . "
   ]
  },
  {
   "cell_type": "markdown",
   "id": "83e30fbb",
   "metadata": {},
   "source": [
    "- The handicapped column has 5 value (0,1,2,3,4), where (1,2,3,4) are levels of handicapped so i changed them to be only 1 and 0 for non-handicapped . "
   ]
  },
  {
   "cell_type": "markdown",
   "id": "0395f890",
   "metadata": {},
   "source": [
    "- Age column has one row of -1 value so, i removed this row and also has several rows of 0 value so i just changed them to NAN value . "
   ]
  },
  {
   "cell_type": "code",
   "execution_count": null,
   "id": "20028d20",
   "metadata": {},
   "outputs": [],
   "source": []
  }
 ],
 "metadata": {
  "interpreter": {
   "hash": "a3949659082f76c3dce9af69e66ef5cf512c1e4dc52678c6ac146f322361f8d5"
  },
  "kernelspec": {
   "display_name": "Python 3 (ipykernel)",
   "language": "python",
   "name": "python3"
  },
  "language_info": {
   "codemirror_mode": {
    "name": "ipython",
    "version": 3
   },
   "file_extension": ".py",
   "mimetype": "text/x-python",
   "name": "python",
   "nbconvert_exporter": "python",
   "pygments_lexer": "ipython3",
   "version": "3.9.6"
  }
 },
 "nbformat": 4,
 "nbformat_minor": 5
}
